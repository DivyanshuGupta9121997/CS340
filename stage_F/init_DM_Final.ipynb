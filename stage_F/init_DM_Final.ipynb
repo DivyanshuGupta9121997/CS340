{
 "cells": [
  {
   "cell_type": "markdown",
   "metadata": {},
   "source": [
    "# Fianl Stage: Hybrid Link Prediction\n",
    "\n",
    "## Construct the graph\n",
    "\n",
    "### import & input"
   ]
  },
  {
   "cell_type": "code",
   "execution_count": 1,
   "metadata": {
    "collapsed": true
   },
   "outputs": [],
   "source": [
    "import nltk\n",
    "import matplotlib.pyplot as plt\n",
    "import numpy as np\n",
    "import pandas as pd\n",
    "import re\n",
    "import networkx as nx\n",
    "import csv\n",
    "import operator"
   ]
  },
  {
   "cell_type": "code",
   "execution_count": 2,
   "metadata": {},
   "outputs": [
    {
     "name": "stderr",
     "output_type": "stream",
     "text": [
      "/home/luy0a/anaconda2/lib/python2.7/site-packages/sklearn/cross_validation.py:41: DeprecationWarning: This module was deprecated in version 0.18 in favor of the model_selection module into which all the refactored classes and functions are moved. Also note that the interface of the new CV iterators are different from that of this module. This module will be removed in 0.20.\n",
      "  \"This module will be removed in 0.20.\", DeprecationWarning)\n"
     ]
    }
   ],
   "source": [
    "from sklearn import cross_validation\n",
    "from random import choice"
   ]
  },
  {
   "cell_type": "code",
   "execution_count": 3,
   "metadata": {
    "collapsed": true
   },
   "outputs": [],
   "source": [
    "import random"
   ]
  },
  {
   "cell_type": "code",
   "execution_count": 4,
   "metadata": {},
   "outputs": [
    {
     "name": "stdout",
     "output_type": "stream",
     "text": [
      "Hello, TensorFlow!\n"
     ]
    }
   ],
   "source": [
    "import tensorflow as tf\n",
    "hello = tf.constant('Hello, TensorFlow!')\n",
    "sess = tf.Session()\n",
    "print(sess.run(hello))"
   ]
  },
  {
   "cell_type": "markdown",
   "metadata": {},
   "source": [
    "## Preprocessing"
   ]
  },
  {
   "cell_type": "code",
   "execution_count": 5,
   "metadata": {
    "collapsed": true
   },
   "outputs": [],
   "source": [
    "f_index = 'full_paper_index.txt'\n",
    "f_links = 'full_paper_reference_links.txt'\n",
    "d_index = pd.read_csv(f_index, sep='\\t')\n",
    "d_links = pd.read_csv(f_links, sep='\\t')"
   ]
  },
  {
   "cell_type": "code",
   "execution_count": 6,
   "metadata": {
    "scrolled": true
   },
   "outputs": [
    {
     "data": {
      "text/plain": [
       "'Complete Mining of Frequent Patterns from Graphs: Mining Graph Data'"
      ]
     },
     "execution_count": 6,
     "metadata": {},
     "output_type": "execute_result"
    }
   ],
   "source": [
    "d_index['title'][0]"
   ]
  },
  {
   "cell_type": "markdown",
   "metadata": {},
   "source": [
    "Seems that some source papers appeared in reference_links are not in the index file. So use papers in index file to construct the mapper and consider them as nodes during computation. "
   ]
  },
  {
   "cell_type": "code",
   "execution_count": 7,
   "metadata": {
    "collapsed": true
   },
   "outputs": [],
   "source": [
    "def construct_mapper(d, string):\n",
    "    mapper={}\n",
    "    for v in range(d.shape[0]):\n",
    "        mapper.setdefault(v, d[string][v])\n",
    "    print(v)\n",
    "    return mapper"
   ]
  },
  {
   "cell_type": "code",
   "execution_count": 8,
   "metadata": {},
   "outputs": [
    {
     "name": "stdout",
     "output_type": "stream",
     "text": [
      "125916\n",
      "125916\n",
      "125916\n"
     ]
    }
   ],
   "source": [
    "p_mapper = construct_mapper(d_index, 'paper_id')\n",
    "a_mapper = construct_mapper(d_index, 'authors')\n",
    "t_mapper = construct_mapper(d_index, 'title')"
   ]
  },
  {
   "cell_type": "code",
   "execution_count": 9,
   "metadata": {
    "collapsed": true
   },
   "outputs": [],
   "source": [
    "def construct_mapper_r(d, string):\n",
    "    mapper={}\n",
    "    for v in range(d.shape[0]):\n",
    "        mapper.setdefault(d[string][v], v)\n",
    "    print(v)\n",
    "    return mapper"
   ]
  },
  {
   "cell_type": "code",
   "execution_count": 10,
   "metadata": {},
   "outputs": [
    {
     "name": "stdout",
     "output_type": "stream",
     "text": [
      "125916\n",
      "125916\n",
      "125916\n"
     ]
    }
   ],
   "source": [
    "p_mapper_r = construct_mapper_r(d_index, 'paper_id')\n",
    "a_mapper_r = construct_mapper_r(d_index, 'authors')\n",
    "t_mapper_r = construct_mapper_r(d_index, 'title')"
   ]
  },
  {
   "cell_type": "markdown",
   "metadata": {},
   "source": [
    "### Create reference graph using integers rather than indices in d_links"
   ]
  },
  {
   "cell_type": "code",
   "execution_count": 11,
   "metadata": {
    "collapsed": true
   },
   "outputs": [],
   "source": [
    "f = open('ref_graph.txt', 'w')\n",
    "wr = csv.writer(f, delimiter='\\t', quoting=csv.QUOTE_NONE)\n",
    "for i in range(d_links.shape[0]):\n",
    "    source = p_mapper_r.get(d_links['source'][i], -1)\n",
    "    target = p_mapper_r.get(d_links['target'][i], -1)\n",
    "    if (source != -1) and (target != -1):\n",
    "        wr.writerow( (source, target) )\n",
    "f.close()\n",
    "ref_graph = np.loadtxt('ref_graph.txt', dtype='int', delimiter='\\t')"
   ]
  },
  {
   "cell_type": "markdown",
   "metadata": {},
   "source": [
    "## Construct the graphs\n",
    "- Now we only need to use author_mapper2.txt, paper_mapper2.txt as mappers. \n",
    "- f_coauthor_links.txt and f_paper_reference_links.txt as edges. "
   ]
  },
  {
   "cell_type": "code",
   "execution_count": 12,
   "metadata": {
    "collapsed": true
   },
   "outputs": [],
   "source": [
    "G_paper = nx.Graph()"
   ]
  },
  {
   "cell_type": "code",
   "execution_count": 13,
   "metadata": {
    "collapsed": true
   },
   "outputs": [],
   "source": [
    "G_paper.add_nodes_from(p_mapper.keys())"
   ]
  },
  {
   "cell_type": "code",
   "execution_count": 14,
   "metadata": {
    "collapsed": true
   },
   "outputs": [],
   "source": [
    "G_paper.add_edges_from(ref_graph)"
   ]
  },
  {
   "cell_type": "markdown",
   "metadata": {},
   "source": [
    "## link predictions"
   ]
  },
  {
   "cell_type": "code",
   "execution_count": null,
   "metadata": {
    "collapsed": true
   },
   "outputs": [],
   "source": [
    "component_list = sorted(nx.connected_component_subgraphs(G_paper), key=len, reverse = True)\n",
    "Gmax = component_list[0]"
   ]
  },
  {
   "cell_type": "code",
   "execution_count": 26,
   "metadata": {
    "collapsed": true
   },
   "outputs": [],
   "source": [
    "Gmax = nx.DiGraph()\n",
    "N = np.loadtxt('p_nodes')\n",
    "Gmax.add_nodes_from(N)\n",
    "E = np.loadtxt('p_edges')\n",
    "Gmax.add_edges_from(E)"
   ]
  },
  {
   "cell_type": "code",
   "execution_count": 27,
   "metadata": {
    "collapsed": true
   },
   "outputs": [],
   "source": [
    "# Randomly mask 10% of the links\n",
    "num_of_edges = len(Gmax.edges())\n",
    "testIndices = np.array(random.sample(range(num_of_edges), int(0.01*num_of_edges)))\n",
    "trainIndices = np.setdiff1d(range(num_of_edges), testIndices)"
   ]
  },
  {
   "cell_type": "code",
   "execution_count": 28,
   "metadata": {
    "collapsed": true
   },
   "outputs": [],
   "source": [
    "G_paper_train = nx.Graph()\n",
    "G_paper_train.add_nodes_from(Gmax.nodes())\n",
    "G_paper_train.add_edges_from(np.array(Gmax.edges())[trainIndices])"
   ]
  },
  {
   "cell_type": "code",
   "execution_count": 29,
   "metadata": {},
   "outputs": [
    {
     "name": "stdout",
     "output_type": "stream",
     "text": [
      "140101\n",
      "138499\n",
      "1602\n"
     ]
    }
   ],
   "source": [
    "print num_of_edges\n",
    "n = len(Gmax.edges())-len(G_paper_train.edges())\n",
    "print len(G_paper_train.edges())\n",
    "print n"
   ]
  },
  {
   "cell_type": "markdown",
   "metadata": {},
   "source": [
    "### Unsupervised: Jaccard, adamic/Adar"
   ]
  },
  {
   "cell_type": "code",
   "execution_count": 30,
   "metadata": {},
   "outputs": [
    {
     "data": {
      "text/plain": [
       "66185"
      ]
     },
     "execution_count": 30,
     "metadata": {},
     "output_type": "execute_result"
    }
   ],
   "source": [
    "len(G_paper_train.nodes())"
   ]
  },
  {
   "cell_type": "code",
   "execution_count": 31,
   "metadata": {
    "collapsed": true,
    "scrolled": true
   },
   "outputs": [],
   "source": [
    "import heapq\n",
    "def jaccard_sim(G, N):\n",
    "    score = list(nx.jaccard_coefficient(G))\n",
    "    ranked_score = heapq.nlargest(N, score, key = operator.itemgetter(2))\n",
    "    return ranked_score"
   ]
  },
  {
   "cell_type": "code",
   "execution_count": 32,
   "metadata": {
    "collapsed": true
   },
   "outputs": [],
   "source": [
    "def adamic_adar_sim(G, N):\n",
    "    score = list(nx.adamic_adar_index(G))\n",
    "    ranked_score = heapq.nlargest(N, score, key = operator.itemgetter(2))\n",
    "    return ranked_score"
   ]
  },
  {
   "cell_type": "code",
   "execution_count": 33,
   "metadata": {},
   "outputs": [
    {
     "ename": "KeyboardInterrupt",
     "evalue": "",
     "output_type": "error",
     "traceback": [
      "\u001b[0;31m---------------------------------------------------------------------------\u001b[0m",
      "\u001b[0;31mKeyboardInterrupt\u001b[0m                         Traceback (most recent call last)",
      "\u001b[0;31mKeyboardInterrupt\u001b[0m: "
     ]
    }
   ],
   "source": [
    "jac_result = jaccard_sim(G_paper_train, n)\n",
    "ada_result = adamic_adar_sim(G_paper_train, n)"
   ]
  },
  {
   "cell_type": "code",
   "execution_count": null,
   "metadata": {
    "collapsed": true
   },
   "outputs": [],
   "source": [
    "def evaluate_prediction(sim, N, mapper):\n",
    "    "
   ]
  }
 ],
 "metadata": {
  "kernelspec": {
   "display_name": "Python 2",
   "language": "python",
   "name": "python2"
  },
  "language_info": {
   "codemirror_mode": {
    "name": "ipython",
    "version": 2
   },
   "file_extension": ".py",
   "mimetype": "text/x-python",
   "name": "python",
   "nbconvert_exporter": "python",
   "pygments_lexer": "ipython2",
   "version": "2.7.14"
  }
 },
 "nbformat": 4,
 "nbformat_minor": 2
}

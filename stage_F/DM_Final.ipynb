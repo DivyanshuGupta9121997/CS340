{
 "cells": [
  {
   "cell_type": "markdown",
   "metadata": {},
   "source": [
    "# Fianl Stage: Hybrid Link Prediction\n",
    "\n",
    "## Construct the graph\n",
    "\n",
    "### import & input"
   ]
  },
  {
   "cell_type": "code",
   "execution_count": 1,
   "metadata": {
    "collapsed": true
   },
   "outputs": [],
   "source": [
    "import nltk\n",
    "import matplotlib.pyplot as plt\n",
    "import numpy as np\n",
    "import pandas as pd\n",
    "import re\n",
    "import networkx as nx\n",
    "import csv\n",
    "import operator"
   ]
  },
  {
   "cell_type": "code",
   "execution_count": 3,
   "metadata": {},
   "outputs": [],
   "source": [
    "from sklearn import cross_validation\n",
    "from random import choice"
   ]
  },
  {
   "cell_type": "code",
   "execution_count": 4,
   "metadata": {
    "collapsed": true
   },
   "outputs": [],
   "source": [
    "import random"
   ]
  },
  {
   "cell_type": "code",
   "execution_count": 4,
   "metadata": {},
   "outputs": [
    {
     "name": "stdout",
     "output_type": "stream",
     "text": [
      "Hello, TensorFlow!\n"
     ]
    }
   ],
   "source": [
    "import tensorflow as tf\n",
    "hello = tf.constant('Hello, TensorFlow!')\n",
    "sess = tf.Session()\n",
    "print(sess.run(hello))"
   ]
  },
  {
   "cell_type": "markdown",
   "metadata": {},
   "source": [
    "## Preprocessing"
   ]
  },
  {
   "cell_type": "code",
   "execution_count": 6,
   "metadata": {
    "collapsed": true
   },
   "outputs": [],
   "source": [
    "f_index = 'full_paper_index.txt'\n",
    "f_links = 'full_paper_reference_links.txt'\n",
    "d_index = pd.read_csv(f_index, sep='\\t')\n",
    "d_links = pd.read_csv(f_links, sep='\\t')"
   ]
  },
  {
   "cell_type": "code",
   "execution_count": 6,
   "metadata": {
    "scrolled": true
   },
   "outputs": [
    {
     "data": {
      "text/plain": [
       "'Complete Mining of Frequent Patterns from Graphs: Mining Graph Data'"
      ]
     },
     "execution_count": 6,
     "metadata": {},
     "output_type": "execute_result"
    }
   ],
   "source": [
    "d_index['title'][0]"
   ]
  },
  {
   "cell_type": "markdown",
   "metadata": {},
   "source": [
    "Seems that some source papers appeared in reference_links are not in the index file. So use papers in index file to construct the mapper and consider them as nodes during computation. "
   ]
  },
  {
   "cell_type": "code",
   "execution_count": 7,
   "metadata": {
    "collapsed": true
   },
   "outputs": [],
   "source": [
    "def construct_mapper(d, string):\n",
    "    mapper={}\n",
    "    for v in range(d.shape[0]):\n",
    "        mapper.setdefault(v, d[string][v])\n",
    "    print(v)\n",
    "    return mapper"
   ]
  },
  {
   "cell_type": "code",
   "execution_count": 8,
   "metadata": {},
   "outputs": [
    {
     "name": "stdout",
     "output_type": "stream",
     "text": [
      "125916\n",
      "125916\n",
      "125916\n"
     ]
    }
   ],
   "source": [
    "p_mapper = construct_mapper(d_index, 'paper_id')\n",
    "a_mapper = construct_mapper(d_index, 'authors')\n",
    "t_mapper = construct_mapper(d_index, 'title')"
   ]
  },
  {
   "cell_type": "code",
   "execution_count": 9,
   "metadata": {
    "collapsed": true
   },
   "outputs": [],
   "source": [
    "def construct_mapper_r(d, string):\n",
    "    mapper={}\n",
    "    for v in range(d.shape[0]):\n",
    "        mapper.setdefault(d[string][v], v)\n",
    "    print(v)\n",
    "    return mapper"
   ]
  },
  {
   "cell_type": "code",
   "execution_count": 10,
   "metadata": {},
   "outputs": [
    {
     "name": "stdout",
     "output_type": "stream",
     "text": [
      "125916\n",
      "125916\n",
      "125916\n"
     ]
    }
   ],
   "source": [
    "p_mapper_r = construct_mapper_r(d_index, 'paper_id')\n",
    "a_mapper_r = construct_mapper_r(d_index, 'authors')\n",
    "t_mapper_r = construct_mapper_r(d_index, 'title')"
   ]
  },
  {
   "cell_type": "markdown",
   "metadata": {},
   "source": [
    "### Create reference graph using integers rather than indices in d_links"
   ]
  },
  {
   "cell_type": "code",
   "execution_count": 11,
   "metadata": {
    "collapsed": true
   },
   "outputs": [],
   "source": [
    "f = open('ref_graph.txt', 'w')\n",
    "wr = csv.writer(f, delimiter='\\t', quoting=csv.QUOTE_NONE)\n",
    "for i in range(d_links.shape[0]):\n",
    "    source = p_mapper_r.get(d_links['source'][i], -1)\n",
    "    target = p_mapper_r.get(d_links['target'][i], -1)\n",
    "    if (source != -1) and (target != -1):\n",
    "        wr.writerow( (source, target) )\n",
    "f.close()\n",
    "ref_graph = np.loadtxt('ref_graph.txt', dtype='int', delimiter='\\t')"
   ]
  },
  {
   "cell_type": "code",
   "execution_count": 5,
   "metadata": {
    "collapsed": true
   },
   "outputs": [],
   "source": [
    "ref_graph = np.loadtxt('ref_graph.txt', dtype='int', delimiter='\\t')"
   ]
  },
  {
   "cell_type": "markdown",
   "metadata": {},
   "source": [
    "## Construct the graphs\n",
    "- Now we only need to use author_mapper2.txt, paper_mapper2.txt as mappers. \n",
    "- f_coauthor_links.txt and f_paper_reference_links.txt as edges. "
   ]
  },
  {
   "cell_type": "code",
   "execution_count": 11,
   "metadata": {
    "collapsed": true
   },
   "outputs": [],
   "source": [
    "G_paper = nx.Graph()"
   ]
  },
  {
   "cell_type": "code",
   "execution_count": 12,
   "metadata": {
    "collapsed": true
   },
   "outputs": [],
   "source": [
    "G_paper.add_nodes_from(p_mapper.keys())"
   ]
  },
  {
   "cell_type": "code",
   "execution_count": 13,
   "metadata": {
    "collapsed": true
   },
   "outputs": [],
   "source": [
    "G_paper.add_edges_from(ref_graph)"
   ]
  },
  {
   "cell_type": "markdown",
   "metadata": {},
   "source": [
    "## Link Predictions"
   ]
  },
  {
   "cell_type": "code",
   "execution_count": null,
   "metadata": {
    "collapsed": true
   },
   "outputs": [],
   "source": [
    "component_list = sorted(nx.connected_component_subgraphs(G_paper), key=len, reverse = True)\n",
    "Gmax = component_list[0]"
   ]
  },
  {
   "cell_type": "code",
   "execution_count": 36,
   "metadata": {
    "collapsed": true
   },
   "outputs": [],
   "source": [
    "# load Gmax from file\n",
    "Gmax = nx.DiGraph()\n",
    "N = np.loadtxt('p_nodes')\n",
    "Gmax.add_nodes_from(N)\n",
    "E = np.loadtxt('p_edges')\n",
    "Gmax.add_edges_from(E)"
   ]
  },
  {
   "cell_type": "code",
   "execution_count": 37,
   "metadata": {},
   "outputs": [],
   "source": [
    "# Randomly sample 10% of the nodes to form a subgraph % to compatible with TF experiment, use 14010\n",
    "num_of_nodes = len(Gmax.nodes())\n",
    "nodeIndices = np.array(random.sample(range(num_of_nodes), 14010))\n",
    "N = N[nodeIndices]\n",
    "Gmax_sub = Gmax.subgraph(N)\n",
    "# 6385 edges, 14040 nodes"
   ]
  },
  {
   "cell_type": "code",
   "execution_count": 41,
   "metadata": {
    "collapsed": true
   },
   "outputs": [],
   "source": [
    "# mask 10% of the edges\n",
    "num_of_edges = len(Gmax_sub.edges())\n",
    "testEdgeIndices = np.array(random.sample(range(len(Gmax_sub.edges())), int(0.1*len(Gmax_sub.edges()))))\n",
    "trainEdgeIndices = np.setdiff1d(range(len(Gmax_sub.edges())), testEdgeIndices)"
   ]
  },
  {
   "cell_type": "code",
   "execution_count": 42,
   "metadata": {
    "collapsed": true
   },
   "outputs": [],
   "source": [
    "G_paper_train = nx.DiGraph()\n",
    "G_paper_train.add_nodes_from(Gmax_sub.nodes())\n",
    "G_paper_train.add_edges_from(np.array(Gmax_sub.edges())[trainEdgeIndices])"
   ]
  },
  {
   "cell_type": "code",
   "execution_count": 43,
   "metadata": {},
   "outputs": [
    {
     "name": "stdout",
     "output_type": "stream",
     "text": [
      "6385\n",
      "5747\n",
      "638\n"
     ]
    }
   ],
   "source": [
    "print num_of_edges\n",
    "n = len(Gmax_sub.edges())-len(G_paper_train.edges())\n",
    "print len(G_paper_train.edges())\n",
    "print n"
   ]
  },
  {
   "cell_type": "code",
   "execution_count": 62,
   "metadata": {
    "collapsed": true
   },
   "outputs": [],
   "source": [
    "def node_write(element_list, filename):\n",
    "    f = open(filename, 'w')\n",
    "    wr = csv.writer(f, delimiter=':', quoting=csv.QUOTE_NONE)\n",
    "    for element in element_list:\n",
    "        wr.writerow( [element] )\n",
    "    f.close()"
   ]
  },
  {
   "cell_type": "code",
   "execution_count": 76,
   "metadata": {
    "collapsed": true
   },
   "outputs": [],
   "source": [
    "def edge_write(edge_list, filename):\n",
    "    f = open(filename, 'w')\n",
    "    element_list = np.array(edge_list)\n",
    "    wr = csv.writer(f, delimiter='\\t', quoting=csv.QUOTE_NONE)\n",
    "    for element in element_list:\n",
    "        wr.writerow( (element[0], element[1]) )\n",
    "    f.close()"
   ]
  },
  {
   "cell_type": "code",
   "execution_count": 77,
   "metadata": {},
   "outputs": [],
   "source": [
    "node_write(list(G_paper_train.nodes()), 'G_paper_train_nodes.txt')\n",
    "edge_write(G_paper_train.edges(), 'G_paper_train_edges.txt')"
   ]
  },
  {
   "cell_type": "markdown",
   "metadata": {},
   "source": [
    "### Unsupervised: Jaccard, adamic/Adar"
   ]
  },
  {
   "cell_type": "code",
   "execution_count": 80,
   "metadata": {
    "collapsed": true,
    "scrolled": true
   },
   "outputs": [],
   "source": [
    "import heapq\n",
    "def jaccard_sim(G):\n",
    "    score = list(nx.jaccard_coefficient(G))\n",
    "    # ranked_score = heapq.nlargest(N, score, key = operator.itemgetter(2))\n",
    "    return score"
   ]
  },
  {
   "cell_type": "code",
   "execution_count": 79,
   "metadata": {
    "collapsed": true
   },
   "outputs": [],
   "source": [
    "def adamic_adar_sim(G):\n",
    "    score = list(nx.adamic_adar_index(G))\n",
    "    # ranked_score = heapq.nlargest(N, score, key = operator.itemgetter(2))\n",
    "    return score"
   ]
  },
  {
   "cell_type": "code",
   "execution_count": 46,
   "metadata": {
    "collapsed": true
   },
   "outputs": [],
   "source": [
    "def result_writer(l, filename):\n",
    "    f = open(filename, 'w')\n",
    "    wr = csv.writer(f, delimiter=':', quoting=csv.QUOTE_NONE)\n",
    "    for e in l:\n",
    "        if e[2] != 0:\n",
    "            wr.writerow(e)\n",
    "    f.close"
   ]
  },
  {
   "cell_type": "code",
   "execution_count": null,
   "metadata": {
    "collapsed": true
   },
   "outputs": [],
   "source": [
    "jac_result = jaccard_sim(G_paper_train.to_undirected())\n",
    "ada_result = adamic_adar_sim(G_paper_train.to_undirected())"
   ]
  },
  {
   "cell_type": "code",
   "execution_count": 239,
   "metadata": {
    "collapsed": true
   },
   "outputs": [],
   "source": [
    "result_writer(jac_result, 'jac_full')\n",
    "result_writer(ada_result, 'ada_full')"
   ]
  },
  {
   "cell_type": "code",
   "execution_count": 99,
   "metadata": {
    "collapsed": true
   },
   "outputs": [],
   "source": [
    "jac = np.loadtxt('jac_full', delimiter=':')\n",
    "ada = np.loadtxt('ada_full', delimiter=':')"
   ]
  },
  {
   "cell_type": "markdown",
   "metadata": {},
   "source": [
    "## Link Prediction:: Supervised: Use title to judge similarity\n",
    "    "
   ]
  },
  {
   "cell_type": "code",
   "execution_count": 81,
   "metadata": {
    "collapsed": true
   },
   "outputs": [],
   "source": [
    "from sklearn.feature_extraction.text import CountVectorizer\n",
    "from nltk.corpus import stopwords\n",
    "from nltk.stem.wordnet import WordNetLemmatizer\n",
    "from sklearn.decomposition import PCA\n",
    "from sklearn.decomposition import TruncatedSVD\n",
    "from sklearn.random_projection import sparse_random_matrix\n",
    "from mpl_toolkits.mplot3d import Axes3D\n",
    "from sklearn.decomposition import KernelPCA\n",
    "from sklearn import manifold\n",
    "from sklearn.feature_extraction.text import TfidfVectorizer\n",
    "from sklearn.cluster import KMeans\n",
    "from sklearn.metrics import silhouette_samples, silhouette_score\n",
    "import matplotlib.cm as cm\n",
    "from sklearn.ensemble import RandomForestClassifier"
   ]
  },
  {
   "cell_type": "code",
   "execution_count": 82,
   "metadata": {
    "collapsed": true
   },
   "outputs": [],
   "source": [
    "stops = set(stopwords.words(\"english\"))\n",
    "lmtzr = WordNetLemmatizer()\n",
    "\n",
    "def pre_processing_a_sentence(sentence, method):\n",
    "    if method == 'BoW':\n",
    "        # remove punctuations\n",
    "        sentence_without_puncs = re.sub(\"[^a-zA-Z0-9]\", \" \", sentence)\n",
    "        # Tokenization\n",
    "        words_in_sentence = sentence_without_puncs.lower().split()\n",
    "        # Remove stop words\n",
    "        words_in_sentence = [w for w in words_in_sentence if not w in stops]\n",
    "        ## Wordlists\n",
    "        # words_in_sentence = [w for w in words_in_sentence if not w in BASIC]\n",
    "        # Lemmatize\n",
    "        words_lemmatized_in_sentence = []\n",
    "        for w in words_in_sentence:\n",
    "            w = lmtzr.lemmatize(w, pos = 'v')\n",
    "            words_lemmatized_in_sentence.append(w)\n",
    "    else:\n",
    "        # remove punctuations\n",
    "        sentence_without_puncs = re.sub(\"[^a-zA-Z0-9]\", \" \", sentence)\n",
    "        # Tokenization\n",
    "        words_in_sentence = sentence_without_puncs.lower()\n",
    "        \n",
    "        n2 = ngrams(words_in_sentence, n=2, punctuation=\".,;:!?()[]{}`''\\\"@#$^&*+-|=~_\", continuous=False)\n",
    "        joined_n2=[]\n",
    "        for phrase_words in n2:\n",
    "            joined_n2.append('-'.join(phrase_words))\n",
    "            \n",
    "        n3 = ngrams(words_in_sentence, n=3, punctuation=\".,;:!?()[]{}`''\\\"@#$^&*+-|=~_\", continuous=False)\n",
    "        joined_n3=[]\n",
    "        for phrase_words in n3:\n",
    "            joined_n3.append('-'.join(phrase_words))\n",
    "            \n",
    "        words_lemmatized_in_sentence = []\n",
    "        words_lemmatized_in_sentence.extend(joined_n2)\n",
    "        words_lemmatized_in_sentence.extend(joined_n3)\n",
    "        \n",
    "    return words_lemmatized_in_sentence\n",
    "\n",
    "def pre_processing(sentence_array, method):\n",
    "    num = sentence_array.size\n",
    "    words_array_clean = []\n",
    "    \n",
    "    # delete \"NaN\" (if there's any)\n",
    "    sentence_array_nan_indices = pd.isnull(sentence_array)\n",
    "    for i in xrange( 0, num ):\n",
    "        if(sentence_array_nan_indices[i] == False):\n",
    "            words_array_clean.append( str(pre_processing_a_sentence( sentence_array[i], method ) ) )\n",
    "        else:\n",
    "            words_array_clean.append( ' ' )\n",
    "            \n",
    "    return words_array_clean\n",
    "\n",
    "vectorizer_title = CountVectorizer(analyzer = \"word\",   \\\n",
    "                             tokenizer = None,    \\\n",
    "                             preprocessor = None, \\\n",
    "                             stop_words = None,   \\\n",
    "                             max_features = 10000) # 600*10 = 6000\n",
    "\n",
    "def feature_generation(word_array, vectorizer):\n",
    "    feature_array = vectorizer.fit_transform(word_array).toarray()\n",
    "    feature_list = vectorizer.get_feature_names()\n",
    "    return feature_array, feature_list"
   ]
  },
  {
   "cell_type": "code",
   "execution_count": 168,
   "metadata": {
    "collapsed": true
   },
   "outputs": [],
   "source": [
    "titles = np.array(d_index['title'])\n",
    "w_title = pre_processing(titles, 'BoW')\n",
    "feature_array_title, feature_list_title = feature_generation(w_title, vectorizer_title)"
   ]
  },
  {
   "cell_type": "code",
   "execution_count": 87,
   "metadata": {
    "collapsed": true
   },
   "outputs": [],
   "source": [
    "def PCA_analysis(feature_array, n):# find first n highest variances\n",
    "    pca = PCA(n_components = n) \n",
    "    pca.fit(feature_array)\n",
    "    feature_array_pca = pca.transform(feature_array)\n",
    "    \n",
    "    plt.figure(1)\n",
    "    \n",
    "    plt.subplot(211)\n",
    "    plt.plot(pca.explained_variance_ratio_, 'ro')\n",
    "    plt.ylabel('Percentage of variances')\n",
    "    leg = plt.legend(loc='best', ncol=2, mode=\"expand\", shadow=True, fancybox=True)\n",
    "    #leg.get_frame().set_alpha(0.5)\n",
    "    \n",
    "    plt.subplot(212)\n",
    "    plt.plot(pca.singular_values_, 'bo')\n",
    "    plt.ylabel('Singular values')\n",
    "    leg = plt.legend(loc='best', ncol=2, mode=\"expand\", shadow=True, fancybox=True)\n",
    "    #leg.get_frame().set_alpha(0.5)\n",
    "    plt.show()\n",
    "    \n",
    "    return feature_array_pca"
   ]
  },
  {
   "cell_type": "code",
   "execution_count": 169,
   "metadata": {
    "scrolled": true
   },
   "outputs": [
    {
     "data": {
      "image/png": "[encoded data removed]",
      "text/plain": [
       "<matplotlib.figure.Figure at 0x2b20b2a26f50>"
      ]
     },
     "metadata": {},
     "output_type": "display_data"
    }
   ],
   "source": [
    "feature_array_title_pca = PCA_analysis(feature_array_title, 50)"
   ]
  },
  {
   "cell_type": "code",
   "execution_count": 170,
   "metadata": {},
   "outputs": [
    {
     "data": {
      "text/plain": [
       "(125917, 50)"
      ]
     },
     "execution_count": 170,
     "metadata": {},
     "output_type": "execute_result"
    }
   ],
   "source": [
    "np.shape(feature_array_title_pca)"
   ]
  },
  {
   "cell_type": "code",
   "execution_count": 91,
   "metadata": {
    "collapsed": true
   },
   "outputs": [],
   "source": [
    "def scatter_visualization_3D(data_array):\n",
    "    fig = plt.figure()\n",
    "    ax = fig.add_subplot(111, projection='3d')\n",
    "    ax.scatter(data_array[:,0], data_array[:,1], data_array[:,2], c='red', s=10, label='Papers',\n",
    "               alpha=0.3, edgecolors='none')\n",
    "    ax.legend()\n",
    "    ax.grid(True)\n",
    "    plt.show()"
   ]
  },
  {
   "cell_type": "code",
   "execution_count": 171,
   "metadata": {},
   "outputs": [
    {
     "data": {
      "image/png": "[encoded data removed]",
      "text/plain": [
       "<matplotlib.figure.Figure at 0x2b20dfd02450>"
      ]
     },
     "metadata": {},
     "output_type": "display_data"
    }
   ],
   "source": [
    "scatter_visualization_3D(feature_array_title_pca)"
   ]
  },
  {
   "cell_type": "code",
   "execution_count": 111,
   "metadata": {},
   "outputs": [],
   "source": [
    "trainEdges = np.array(G_paper_train.edges()).astype(int)\n",
    "trainNodes = np.array(G_paper_train.nodes()).astype(int)"
   ]
  },
  {
   "cell_type": "code",
   "execution_count": 133,
   "metadata": {},
   "outputs": [],
   "source": [
    "testEdges = np.array(Gmax_sub.edges())[testEdgeIndices].astype(int)"
   ]
  },
  {
   "cell_type": "code",
   "execution_count": 471,
   "metadata": {},
   "outputs": [
    {
     "data": {
      "text/plain": [
       "96971"
      ]
     },
     "execution_count": 471,
     "metadata": {},
     "output_type": "execute_result"
    }
   ],
   "source": [
    "len(trainFeatures)"
   ]
  },
  {
   "cell_type": "code",
   "execution_count": 472,
   "metadata": {},
   "outputs": [
    {
     "data": {
      "text/plain": [
       "96971"
      ]
     },
     "execution_count": 472,
     "metadata": {},
     "output_type": "execute_result"
    }
   ],
   "source": [
    "len(trainLabels)"
   ]
  },
  {
   "cell_type": "code",
   "execution_count": 473,
   "metadata": {},
   "outputs": [
    {
     "data": {
      "text/plain": [
       "28820"
      ]
     },
     "execution_count": 473,
     "metadata": {},
     "output_type": "execute_result"
    }
   ],
   "source": [
    "np.nonzero(np.array(trainLabels))[0].size"
   ]
  },
  {
   "cell_type": "code",
   "execution_count": 470,
   "metadata": {
    "collapsed": true
   },
   "outputs": [],
   "source": [
    "trainFeatures = [] # size 96971\n",
    "trainLabels = [] # size 96971, non zero elements 28820\n",
    "trainDatas=[]\n",
    "iter = 0\n",
    "for i in trainNodes[np.random.choice(trainNodes.size, int(0.0005*trainNodes.size))]:\n",
    "    iter+=1\n",
    "    if iter % 100 == 0:\n",
    "        print iter\n",
    "    for j in trainNodes:#[np.random.choice(trainNodes.size, int(0.1*trainNodes.size))]:\n",
    "        if i != j:\n",
    "            if [i, j] in trainEdges:\n",
    "                trainLabels.append(1)\n",
    "            elif [i,j] in testEdges:\n",
    "                continue\n",
    "                trainLabels.append(-1)\n",
    "            else:\n",
    "                # ran = np.random.choice(2, 1, p=[0.9, 0.1])[0]\n",
    "                trainLabels.append(0)\n",
    "            for index in range(jac[:,0].size):\n",
    "                if jac[index,0].astype(int)==i and jac[index,1].astype(int)==j:\n",
    "                    jacada=[jac[index, 2], ada[index, 2]]\n",
    "                else:\n",
    "                    jacada=[0,0]\n",
    "            trainFeatures.append(np.append(jacada, np.absolute(feature_array_title_pca[i][0:5]-feature_array_title_pca[j][0:5])))\n",
    "            trainDatas.append([i,j])"
   ]
  },
  {
   "cell_type": "code",
   "execution_count": 477,
   "metadata": {},
   "outputs": [
    {
     "data": {
      "text/plain": [
       "5743"
      ]
     },
     "execution_count": 477,
     "metadata": {},
     "output_type": "execute_result"
    }
   ],
   "source": [
    "len(testFeatures)"
   ]
  },
  {
   "cell_type": "code",
   "execution_count": 478,
   "metadata": {},
   "outputs": [
    {
     "data": {
      "text/plain": [
       "638"
      ]
     },
     "execution_count": 478,
     "metadata": {},
     "output_type": "execute_result"
    }
   ],
   "source": [
    "np.nonzero(np.array(testLabels))[0].size"
   ]
  },
  {
   "cell_type": "code",
   "execution_count": 476,
   "metadata": {},
   "outputs": [],
   "source": [
    "testFeatures = [] # 5743\n",
    "testLabels = [] # 638 non zero elements\n",
    "for [i,j] in testEdges:\n",
    "    for index in range(jac[:,0].size):\n",
    "        if jac[index,0].astype(int)==i and jac[index,1].astype(int)==j:\n",
    "            jacada=[jac[index, 2], ada[index, 2]]\n",
    "        else:\n",
    "            jacada=[0,0]\n",
    "    testLabels.append(1)\n",
    "    testFeatures.append(np.append(jacada, np.absolute(feature_array_title_pca[i][0:5]-feature_array_title_pca[j][0:5])))\n",
    "iter = 0\n",
    "# 0 edges should from nodes within testEdges!!!\n",
    "for i in trainNodes[np.random.choice(trainNodes.size, int(0.01*trainNodes.size))]:\n",
    "    for j in trainNodes[np.random.choice(trainNodes.size, int(0.01*trainNodes.size))]:\n",
    "        if iter > 638*8:\n",
    "            break\n",
    "        if i != j:\n",
    "            if [i, j] in testEdges:\n",
    "                continue\n",
    "                testLabels.append(1)\n",
    "            elif [i,j] in trainEdges:\n",
    "                continue\n",
    "                testLabels.append(-1)\n",
    "            else:\n",
    "                # ran = np.random.choice(2, 1, p=[0.9, 0.1])[0]\n",
    "                iter+=1\n",
    "                testLabels.append(0)\n",
    "        for index in range(jac[:,0].size):\n",
    "                if jac[index,0].astype(int)==i and jac[index,1].astype(int)==j:\n",
    "                    jacada=[jac[index, 2], ada[index, 2]]\n",
    "                else:\n",
    "                    jacada=[0,0]\n",
    "        testFeatures.append(np.append(jacada, np.absolute(feature_array_title_pca[i][0:5]-feature_array_title_pca[j][0:5])))"
   ]
  },
  {
   "cell_type": "code",
   "execution_count": 423,
   "metadata": {},
   "outputs": [],
   "source": [
    "def test_train_writer(f,l,filename):\n",
    "    fi = open(filename, 'w')\n",
    "    wr = csv.writer(fi, delimiter=':', quoting=csv.QUOTE_NONE)\n",
    "    for i in range(len(l)):\n",
    "        wr.writerow((f[i][0], f[i][1], f[i][2], f[i][3], f[i][4],f[i][5],f[i][6], l[i]))\n",
    "    fi.close()"
   ]
  },
  {
   "cell_type": "code",
   "execution_count": 479,
   "metadata": {},
   "outputs": [],
   "source": [
    "test_train_writer(trainFeatures, trainLabels, 'trainData.txt')"
   ]
  },
  {
   "cell_type": "code",
   "execution_count": 480,
   "metadata": {},
   "outputs": [],
   "source": [
    "test_train_writer(testFeatures, testLabels, 'testData.txt')"
   ]
  },
  {
   "cell_type": "code",
   "execution_count": 91,
   "metadata": {},
   "outputs": [
    {
     "data": {
      "text/plain": [
       "False"
      ]
     },
     "execution_count": 91,
     "metadata": {},
     "output_type": "execute_result"
    }
   ],
   "source": [
    "def similarity(a, b):\n",
    "    s = np.dot(feature_array_title_pca[a], feature_array_title_pca[b].T)\n",
    "    if s == 0:\n",
    "        return s\n",
    "    else:\n",
    "        s = s / (np.linalg.norm(feature_array_title_pca[a])*np.linalg.norm(feature_array_title_pca[b]))\n",
    "        return s"
   ]
  },
  {
   "cell_type": "code",
   "execution_count": 481,
   "metadata": {
    "collapsed": true
   },
   "outputs": [],
   "source": [
    "clf = RandomForestClassifier(\n",
    "        criterion = 'entropy', #gini\n",
    "        n_estimators=100, \n",
    "        max_depth = 25,   \n",
    "        min_samples_leaf = 1,\n",
    "        n_jobs = 16,\n",
    "        random_state = 0\n",
    "       )"
   ]
  },
  {
   "cell_type": "code",
   "execution_count": 490,
   "metadata": {
    "collapsed": true
   },
   "outputs": [],
   "source": [
    "w = np.array([3.6 if i==1 else 1 for i in trainLabels])"
   ]
  },
  {
   "cell_type": "code",
   "execution_count": 491,
   "metadata": {},
   "outputs": [
    {
     "data": {
      "text/plain": [
       "RandomForestClassifier(bootstrap=True, class_weight=None, criterion='entropy',\n",
       "            max_depth=25, max_features='auto', max_leaf_nodes=None,\n",
       "            min_impurity_decrease=0.0, min_impurity_split=None,\n",
       "            min_samples_leaf=1, min_samples_split=2,\n",
       "            min_weight_fraction_leaf=0.0, n_estimators=100, n_jobs=16,\n",
       "            oob_score=False, random_state=0, verbose=0, warm_start=False)"
      ]
     },
     "execution_count": 491,
     "metadata": {},
     "output_type": "execute_result"
    }
   ],
   "source": [
    "clf.fit(trainFeatures, trainLabels, sample_weight=w)"
   ]
  },
  {
   "cell_type": "code",
   "execution_count": 492,
   "metadata": {},
   "outputs": [
    {
     "name": "stdout",
     "output_type": "stream",
     "text": [
      "0.989337018284\n"
     ]
    }
   ],
   "source": [
    "print clf.score(trainFeatures, trainLabels)"
   ]
  },
  {
   "cell_type": "code",
   "execution_count": 493,
   "metadata": {},
   "outputs": [
    {
     "name": "stdout",
     "output_type": "stream",
     "text": [
      "0.804457600557\n"
     ]
    }
   ],
   "source": [
    "print clf.score(testFeatures, testLabels)"
   ]
  },
  {
   "cell_type": "markdown",
   "metadata": {},
   "source": [
    "### Try different similarity metrics"
   ]
  },
  {
   "cell_type": "code",
   "execution_count": 396,
   "metadata": {
    "collapsed": true
   },
   "outputs": [],
   "source": [
    "from sklearn.naive_bayes import MultinomialNB\n",
    "from sklearn.naive_bayes import GaussianNB\n",
    "from sklearn.tree import DecisionTreeClassifier\n",
    "from sklearn.neighbors import KNeighborsClassifier\n",
    "from sklearn import cross_validation\n",
    "from sklearn.ensemble import AdaBoostClassifier\n",
    "from sklearn.ensemble import BaggingClassifier\n",
    "from sklearn.ensemble import RandomForestClassifier"
   ]
  },
  {
   "cell_type": "code",
   "execution_count": 496,
   "metadata": {},
   "outputs": [
    {
     "name": "stdout",
     "output_type": "stream",
     "text": [
      "0.702673995318\n",
      "0.888385861048\n"
     ]
    }
   ],
   "source": [
    "# NN\n",
    "from sklearn.neural_network import MLPClassifier\n",
    "clf2 = MLPClassifier(alpha=1) \n",
    "clf2.fit(trainFeatures, trainLabels) \n",
    "print clf2.score(trainFeatures, trainLabels) \n",
    "print clf2.score(testFeatures, testLabels)"
   ]
  },
  {
   "cell_type": "markdown",
   "metadata": {},
   "source": [
    "### Thus, will use NN, and now evaluate it. "
   ]
  },
  {
   "cell_type": "code",
   "execution_count": 302,
   "metadata": {
    "collapsed": true
   },
   "outputs": [],
   "source": [
    "node_mapper = {}\n",
    "iter = 0 \n",
    "for node in G_paper_train.nodes():\n",
    "    node_mapper[node] = iter\n",
    "    iter+=1"
   ]
  },
  {
   "cell_type": "code",
   "execution_count": 316,
   "metadata": {},
   "outputs": [],
   "source": [
    "node_mapper_r = {}\n",
    "iter = 0 \n",
    "for node in G_paper_train.nodes():\n",
    "    node_mapper_r[iter] = node\n",
    "    iter+=1"
   ]
  },
  {
   "cell_type": "code",
   "execution_count": 231,
   "metadata": {
    "collapsed": true
   },
   "outputs": [],
   "source": [
    "remapped_edges = [(node_mapper[node1], node_mapper[node2]) for node1, node2 in list(G_paper_train.edges())]"
   ]
  },
  {
   "cell_type": "code",
   "execution_count": 232,
   "metadata": {
    "collapsed": true
   },
   "outputs": [],
   "source": [
    "remapped_edges = set(remapped_edges)"
   ]
  },
  {
   "cell_type": "code",
   "execution_count": 254,
   "metadata": {},
   "outputs": [],
   "source": [
    "edge_list = list(Gmax_sub.edges())\n",
    "test_edges = [edge_list[i] for i in testEdgeIndices]\n",
    "remapped_test_edges = set([(node_mapper[node1], node_mapper[node2]) for node1, node2 in test_edges])"
   ]
  },
  {
   "cell_type": "code",
   "execution_count": 260,
   "metadata": {
    "collapsed": true
   },
   "outputs": [],
   "source": [
    "n = len(G_paper_train.nodes())"
   ]
  },
  {
   "cell_type": "code",
   "execution_count": 261,
   "metadata": {
    "collapsed": true
   },
   "outputs": [],
   "source": [
    "edges_to_sort = [[ j for j in range(n) if (i,j) not in remapped_edges ] for i in range(n)]"
   ]
  },
  {
   "cell_type": "code",
   "execution_count": 454,
   "metadata": {
    "collapsed": true
   },
   "outputs": [],
   "source": [
    "def get_feature(i,j):\n",
    "    for index in range(jac[:,0].size):\n",
    "        if jac[index,0]==node_mapper_r[i] and jac[index,1]==node_mapper_r[j]:\n",
    "            jacada=[jac[index, 2], ada[index, 2]]\n",
    "            break\n",
    "        else:\n",
    "            jacada=[0,0]\n",
    "    feature = np.append(jacada, np.absolute(feature_array_title_pca[node_mapper_r[i].astype(int)][0:5]-feature_array_title_pca[node_mapper_r[j].astype(int)][0:5]))\n",
    "    return feature"
   ]
  },
  {
   "cell_type": "code",
   "execution_count": 498,
   "metadata": {},
   "outputs": [
    {
     "data": {
      "text/plain": [
       "array([0])"
      ]
     },
     "execution_count": 498,
     "metadata": {},
     "output_type": "execute_result"
    }
   ],
   "source": [
    "clf2.predict(np.array([0.0,0.0,0.03549223215032736,0.057131414154236601,0.025709844525961367,0.029162969157687443,0.058711345404273044]).reshape(1,-1))"
   ]
  },
  {
   "cell_type": "code",
   "execution_count": 500,
   "metadata": {},
   "outputs": [
    {
     "name": "stdout",
     "output_type": "stream",
     "text": [
      "90.3638470173\n"
     ]
    }
   ],
   "source": [
    "t0=time.time()\n",
    "i = 16\n",
    "nodes_to_sort = edges_to_sort[i]\n",
    "p = heapq.nlargest(K, nodes_to_sort, key = lambda j : clf2.predict(get_feature(i,j).reshape(1,-1))[0])#PredictionMatrix[i][j])\n",
    "t1 = time.time()-t0\n",
    "print t1"
   ]
  },
  {
   "cell_type": "code",
   "execution_count": null,
   "metadata": {},
   "outputs": [],
   "source": [
    "HRS = []\n",
    "hits = np.zeros(100)\n",
    "K = 100\n",
    "predicted = set()\n",
    "for i in range(100):# n is too much\n",
    "    nodes_to_sort = edges_to_sort[i]\n",
    "    p = heapq.nlargest(K, nodes_to_sort, key = lambda j : clf2.predict(get_feature(i,j).reshape(1,-1))[0])#PredictionMatrix[i][j])\n",
    "    for k in range(K):\n",
    "        j = p[k]\n",
    "        if (i,j) in remapped_test_edges: \n",
    "            for kk in range(k, K):\n",
    "                hits[kk] = hits[kk] + 1"
   ]
  },
  {
   "cell_type": "code",
   "execution_count": null,
   "metadata": {
    "collapsed": true
   },
   "outputs": [],
   "source": [
    "for i in range(K):\n",
    "    HRS.append(hits[i]/len(test_edges))"
   ]
  },
  {
   "cell_type": "code",
   "execution_count": null,
   "metadata": {
    "collapsed": true
   },
   "outputs": [],
   "source": [
    "plt.plot(HRS)\n",
    "plt.show()"
   ]
  },
  {
   "cell_type": "markdown",
   "metadata": {},
   "source": [
    "## Matrix factorization"
   ]
  },
  {
   "cell_type": "code",
   "execution_count": 273,
   "metadata": {},
   "outputs": [
    {
     "data": {
      "text/plain": [
       "array([[ 32769, 108546],\n",
       "       [     2, 116919],\n",
       "       [     4,  10177],\n",
       "       ..., \n",
       "       [ 32332,  32518],\n",
       "       [ 32379,  32402],\n",
       "       [107802,  65424]])"
      ]
     },
     "execution_count": 273,
     "metadata": {},
     "output_type": "execute_result"
    }
   ],
   "source": [
    "np.array(list(G_paper_train.edges())).astype(int)"
   ]
  },
  {
   "cell_type": "code",
   "execution_count": 363,
   "metadata": {
    "collapsed": true
   },
   "outputs": [],
   "source": [
    "testEdgeIndices = np.array(random.sample(range(len(G_paper_train.edges())), int(0.1*len(G_paper_train.edges()))))\n",
    "trainEdgeIndices = np.setdiff1d(range(len(G_paper_train.edges())), testEdgeIndices)\n",
    "G_t = nx.DiGraph()\n",
    "G_t.add_nodes_from(G_paper_train.nodes())\n",
    "G_t.add_edges_from(np.array(list(G_paper_train.edges())).astype(int)[trainEdgeIndices])"
   ]
  },
  {
   "cell_type": "code",
   "execution_count": 364,
   "metadata": {
    "collapsed": true
   },
   "outputs": [],
   "source": [
    "P = nx.adjacency_matrix(G_t)"
   ]
  },
  {
   "cell_type": "code",
   "execution_count": 342,
   "metadata": {},
   "outputs": [
    {
     "data": {
      "text/plain": [
       "2272"
      ]
     },
     "execution_count": 342,
     "metadata": {},
     "output_type": "execute_result"
    }
   ],
   "source": [
    "np.linalg.matrix_rank(Ptrain)"
   ]
  },
  {
   "cell_type": "code",
   "execution_count": 384,
   "metadata": {
    "collapsed": true
   },
   "outputs": [
    {
     "name": "stdout",
     "output_type": "stream",
     "text": [
      "(14010, 14010)\n",
      "0\n",
      "loss = 4593.17\n",
      "1\n",
      "loss = 4527.58\n",
      "2\n",
      "loss = 4456.81\n",
      "3\n",
      "loss = 4378.59\n",
      "4\n",
      "loss = 4291.46\n",
      "5\n",
      "loss = 4194.56\n",
      "6\n",
      "loss = 4087.38\n",
      "7\n",
      "loss = 3969.65\n",
      "8\n",
      "loss = 3841.29\n",
      "9\n",
      "loss = 3702.38\n",
      "10\n",
      "loss = 3553.13\n",
      "11\n",
      "loss = 3393.92\n",
      "12\n",
      "loss = 3225.26\n",
      "13\n",
      "loss = 3047.83\n",
      "14\n",
      "loss = 2862.48\n",
      "15\n",
      "loss = 2670.28\n",
      "16\n",
      "loss = 2472.47\n",
      "17\n",
      "loss = 2270.51\n",
      "18\n",
      "loss = 2066.09\n",
      "19\n",
      "loss = 1861.09\n",
      "20\n",
      "loss = 1657.63\n",
      "21\n",
      "loss = 1458.0\n",
      "22\n",
      "loss = 1264.67\n",
      "23\n",
      "loss = 1080.2\n",
      "24\n",
      "loss = 907.235\n",
      "25\n",
      "loss = 748.351\n",
      "26\n",
      "loss = 605.959\n",
      "27\n",
      "loss = 482.138\n",
      "28\n",
      "loss = 378.443\n",
      "29\n",
      "loss = 295.694\n",
      "30\n",
      "loss = 233.775\n",
      "31\n",
      "loss = 191.486\n",
      "32\n",
      "loss = 166.513\n",
      "33\n",
      "loss = 155.552\n",
      "34\n",
      "loss = 154.621\n",
      "35\n",
      "loss = 159.516\n",
      "36\n",
      "loss = 166.305\n",
      "37\n",
      "loss = 171.76\n",
      "38\n",
      "loss = 173.618\n",
      "39\n",
      "loss = 170.66\n",
      "40\n",
      "loss = 162.628\n",
      "41\n",
      "loss = 150.036\n",
      "42\n",
      "loss = 133.927\n",
      "43\n",
      "loss = 115.632\n",
      "44\n",
      "loss = 96.5553\n",
      "45\n",
      "loss = 77.9982\n",
      "46\n",
      "loss = 61.0397\n",
      "47\n",
      "loss = 46.4644\n",
      "48\n",
      "loss = 34.7355\n",
      "49\n",
      "loss = 26.0072\n",
      "50\n",
      "loss = 20.1634\n",
      "51\n",
      "loss = 16.8761\n",
      "52\n",
      "loss = 15.6717\n",
      "53\n",
      "loss = 15.9987\n",
      "54\n",
      "loss = 17.2902\n",
      "55\n",
      "loss = 19.0154\n",
      "56\n",
      "loss = 20.7201\n",
      "57\n",
      "loss = 22.0517\n",
      "58\n",
      "loss = 22.7717\n",
      "59\n",
      "loss = 22.7564\n",
      "60\n",
      "loss = 21.9866\n",
      "61\n",
      "loss = 20.5309\n",
      "62\n",
      "loss = 18.5238\n",
      "63\n",
      "loss = 16.1416\n",
      "64\n",
      "loss = 13.5785\n",
      "65\n",
      "loss = 11.0242\n",
      "66\n",
      "loss = 8.64602\n",
      "67\n",
      "loss = 6.57454\n",
      "68\n",
      "loss = 4.89566\n",
      "69\n",
      "loss = 3.64764\n",
      "70\n",
      "loss = 2.82359\n",
      "71\n",
      "loss = 2.37852\n",
      "72\n",
      "loss = 2.23939\n",
      "73\n",
      "loss = 2.31711\n",
      "74\n",
      "loss = 2.51861\n",
      "75\n",
      "loss = 2.7576\n",
      "76\n",
      "loss = 2.96303\n",
      "77\n",
      "loss = 3.08439\n",
      "78\n",
      "loss = 3.09372\n",
      "79\n",
      "loss = 2.9846\n",
      "80\n",
      "loss = 2.76869\n",
      "81\n",
      "loss = 2.47074\n",
      "82\n",
      "loss = 2.12287\n",
      "83\n",
      "loss = 1.75901\n",
      "84\n",
      "loss = 1.41028\n",
      "85\n",
      "loss = 1.10145\n",
      "86\n",
      "loss = 0.849011\n",
      "87\n",
      "loss = 0.660582\n",
      "88\n",
      "loss = 0.535566\n",
      "89\n",
      "loss = 0.46669\n",
      "90\n",
      "loss = 0.442095\n",
      "91\n",
      "loss = 0.447596\n",
      "92\n",
      "loss = 0.468807\n",
      "93\n",
      "loss = 0.492899\n",
      "94\n",
      "loss = 0.509849\n",
      "95\n",
      "loss = 0.513104\n",
      "96\n",
      "loss = 0.499704\n",
      "97\n",
      "loss = 0.469933\n",
      "98\n",
      "loss = 0.426627\n",
      "99\n",
      "loss = 0.374284\n"
     ]
    }
   ],
   "source": [
    "Ptrain = P.todense()\n",
    "n = P.shape[0]\n",
    "print(Ptrain.shape)\n",
    "k = 100\n",
    "tf.reset_default_graph()\n",
    "Pt = tf.get_variable(\"Ptrain\", initializer = tf.constant(Ptrain.astype(np.float32)))\n",
    "# Weights = tf.maximum(0.0001, Ptrain)\n",
    "Weights = tf.maximum(0., Ptrain)\n",
    "W = tf.get_variable(\"W\", shape = [n,k])\n",
    "H = tf.get_variable(\"H\", shape = [n,k])\n",
    "Prediction = tf.matmul(W, H, transpose_b = True)\n",
    "Loss = tf.reduce_sum(tf.square(Prediction - Pt) * Weights)\n",
    "\n",
    "reg_coeff = 0.00001\n",
    "regularizer = reg_coeff * (tf.square(tf.norm(H)))\n",
    "\n",
    "Loss = Loss + regularizer\n",
    "\n",
    "learning_rate = 0.003\n",
    "train_step = tf.train.AdamOptimizer(learning_rate).minimize(Loss)\n",
    "\n",
    "with tf.Session() as sess:\n",
    "    sess.run(tf.global_variables_initializer())\n",
    "    for epoch in range(100):\n",
    "        print(epoch)\n",
    "        sess.run(train_step)\n",
    "        current_loss = sess.run(Loss)\n",
    "        print(\"loss = \" + str(current_loss))\n",
    "    PredictionMatrix = sess.run(Prediction)\n"
   ]
  },
  {
   "cell_type": "code",
   "execution_count": 314,
   "metadata": {
    "collapsed": true
   },
   "outputs": [],
   "source": [
    "node_mapper = {}\n",
    "iter = 0 \n",
    "for node in G_t.nodes():\n",
    "    node_mapper[node] = iter\n",
    "    iter+=1"
   ]
  },
  {
   "cell_type": "code",
   "execution_count": 315,
   "metadata": {
    "collapsed": true
   },
   "outputs": [],
   "source": [
    "remapped_edges = [(node_mapper[node1], node_mapper[node2]) for node1, node2 in list(G_t.edges())]"
   ]
  },
  {
   "cell_type": "code",
   "execution_count": 316,
   "metadata": {
    "collapsed": true
   },
   "outputs": [],
   "source": [
    "remapped_edges = set(remapped_edges)"
   ]
  },
  {
   "cell_type": "code",
   "execution_count": null,
   "metadata": {
    "collapsed": true
   },
   "outputs": [],
   "source": [
    "edge_list = list(G_paper_train.edges())\n",
    "test_edges = [edge_list[i] for i in testEdgeIndices]\n",
    "test_edges = set([(node_mapper[node1], node_mapper[node2]) for node1, node2 in test_edges])"
   ]
  },
  {
   "cell_type": "code",
   "execution_count": 366,
   "metadata": {
    "collapsed": true
   },
   "outputs": [],
   "source": [
    "edges_to_sort = [[ j for j in range(n) if (i,j) not in remapped_edges ] for i in range(n)]"
   ]
  },
  {
   "cell_type": "code",
   "execution_count": 367,
   "metadata": {
    "collapsed": true
   },
   "outputs": [],
   "source": [
    "K = 100\n",
    "predicted = set()\n",
    "for i in range(n):\n",
    "    nodes_to_sort = edges_to_sort[i]\n",
    "    p = heapq.nlargest(K, nodes_to_sort, key = lambda j : PredictionMatrix[i][j])\n",
    "    for j in p:\n",
    "        predicted.add( (i,j))"
   ]
  },
  {
   "cell_type": "code",
   "execution_count": 385,
   "metadata": {
    "collapsed": true
   },
   "outputs": [],
   "source": [
    "HRS = []\n",
    "hits = np.zeros(100)\n",
    "K = 100\n",
    "predicted = set()\n",
    "for i in range(n):\n",
    "    nodes_to_sort = edges_to_sort[i]\n",
    "    p = heapq.nlargest(K, nodes_to_sort, key = lambda j : PredictionMatrix[i][j])\n",
    "    for k in range(K):\n",
    "        j = p[k]\n",
    "        if (i,j) in test_edges: \n",
    "            for kk in range(k, K):\n",
    "                hits[kk] = hits[kk] + 1"
   ]
  },
  {
   "cell_type": "code",
   "execution_count": 386,
   "metadata": {
    "collapsed": true
   },
   "outputs": [],
   "source": [
    "for i in range(K):\n",
    "    HRS.append(hits[i]/len(test_edges))"
   ]
  },
  {
   "cell_type": "code",
   "execution_count": 388,
   "metadata": {
    "collapsed": true
   },
   "outputs": [
    {
     "data": {
      "text/plain": [
       "[0.3902439024390244,\n",
       " 0.47212543554006969,\n",
       " 0.50348432055749126,\n",
       " 0.51567944250871078,\n",
       " 0.52090592334494779,\n",
       " 0.52264808362369342,\n",
       " 0.52439024390243905,\n",
       " 0.52439024390243905,\n",
       " 0.52613240418118468,\n",
       " 0.52787456445993031,\n",
       " 0.53135888501742157,\n",
       " 0.53135888501742157,\n",
       " 0.5331010452961672,\n",
       " 0.53484320557491294,\n",
       " 0.53484320557491294,\n",
       " 0.53484320557491294,\n",
       " 0.53484320557491294,\n",
       " 0.53484320557491294,\n",
       " 0.53484320557491294,\n",
       " 0.53658536585365857,\n",
       " 0.5383275261324042,\n",
       " 0.5383275261324042,\n",
       " 0.5383275261324042,\n",
       " 0.5383275261324042,\n",
       " 0.5383275261324042,\n",
       " 0.5383275261324042,\n",
       " 0.5383275261324042,\n",
       " 0.5383275261324042,\n",
       " 0.5383275261324042,\n",
       " 0.5383275261324042,\n",
       " 0.5383275261324042,\n",
       " 0.54006968641114983,\n",
       " 0.54006968641114983,\n",
       " 0.54181184668989546,\n",
       " 0.54181184668989546,\n",
       " 0.54181184668989546,\n",
       " 0.54181184668989546,\n",
       " 0.54181184668989546,\n",
       " 0.54181184668989546,\n",
       " 0.54181184668989546,\n",
       " 0.54181184668989546,\n",
       " 0.54181184668989546,\n",
       " 0.54181184668989546,\n",
       " 0.54181184668989546,\n",
       " 0.54181184668989546,\n",
       " 0.54181184668989546,\n",
       " 0.54181184668989546,\n",
       " 0.54181184668989546,\n",
       " 0.54181184668989546,\n",
       " 0.54181184668989546,\n",
       " 0.54181184668989546,\n",
       " 0.54181184668989546,\n",
       " 0.54181184668989546,\n",
       " 0.54355400696864109,\n",
       " 0.54355400696864109,\n",
       " 0.54355400696864109,\n",
       " 0.54355400696864109,\n",
       " 0.54355400696864109,\n",
       " 0.54355400696864109,\n",
       " 0.54355400696864109,\n",
       " 0.54529616724738672,\n",
       " 0.54529616724738672,\n",
       " 0.54529616724738672,\n",
       " 0.54529616724738672,\n",
       " 0.54529616724738672,\n",
       " 0.54529616724738672,\n",
       " 0.54529616724738672,\n",
       " 0.54529616724738672,\n",
       " 0.54529616724738672,\n",
       " 0.54529616724738672,\n",
       " 0.54529616724738672,\n",
       " 0.54529616724738672,\n",
       " 0.54529616724738672,\n",
       " 0.54529616724738672,\n",
       " 0.54529616724738672,\n",
       " 0.54529616724738672,\n",
       " 0.54529616724738672,\n",
       " 0.54529616724738672,\n",
       " 0.54529616724738672,\n",
       " 0.54529616724738672,\n",
       " 0.54529616724738672,\n",
       " 0.54529616724738672,\n",
       " 0.54529616724738672,\n",
       " 0.54529616724738672,\n",
       " 0.54529616724738672,\n",
       " 0.54529616724738672,\n",
       " 0.54529616724738672,\n",
       " 0.54529616724738672,\n",
       " 0.54529616724738672,\n",
       " 0.54529616724738672,\n",
       " 0.54529616724738672,\n",
       " 0.54529616724738672,\n",
       " 0.54529616724738672,\n",
       " 0.54529616724738672,\n",
       " 0.54529616724738672,\n",
       " 0.54529616724738672,\n",
       " 0.54529616724738672,\n",
       " 0.54529616724738672,\n",
       " 0.54529616724738672,\n",
       " 0.54529616724738672]"
      ]
     },
     "execution_count": 388,
     "metadata": {},
     "output_type": "execute_result"
    }
   ],
   "source": [
    "HRS"
   ]
  },
  {
   "cell_type": "code",
   "execution_count": 387,
   "metadata": {},
   "outputs": [
    {
     "data": {
      "image/png": "[encoded data removed]",
      "text/plain": [
       "<matplotlib.figure.Figure at 0x2b99db6b0ad0>"
      ]
     },
     "metadata": {},
     "output_type": "display_data"
    }
   ],
   "source": [
    "plt.plot(HRS)\n",
    "plt.show()"
   ]
  }
 ],
 "metadata": {
  "kernelspec": {
   "display_name": "Python 2",
   "language": "python",
   "name": "python2"
  },
  "language_info": {
   "codemirror_mode": {
    "name": "ipython",
    "version": 2
   },
   "file_extension": ".py",
   "mimetype": "text/x-python",
   "name": "python",
   "nbconvert_exporter": "python",
   "pygments_lexer": "ipython2",
   "version": "2.7.14"
  }
 },
 "nbformat": 4,
 "nbformat_minor": 2
}

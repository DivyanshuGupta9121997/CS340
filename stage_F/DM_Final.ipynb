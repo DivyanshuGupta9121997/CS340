{
 "cells": [
  {
   "cell_type": "markdown",
   "metadata": {},
   "source": [
    "# Fianl Stage: Hybrid Link Prediction\n",
    "\n",
    "## Construct the graph\n",
    "\n",
    "### import & input"
   ]
  },
  {
   "cell_type": "code",
   "execution_count": 1,
   "metadata": {
    "collapsed": true
   },
   "outputs": [],
   "source": [
    "import nltk\n",
    "import matplotlib.pyplot as plt\n",
    "import numpy as np\n",
    "import pandas as pd\n",
    "import re\n",
    "import networkx as nx\n",
    "import csv\n",
    "import operator"
   ]
  },
  {
   "cell_type": "code",
   "execution_count": 3,
   "metadata": {},
   "outputs": [],
   "source": [
    "from sklearn import cross_validation\n",
    "from random import choice"
   ]
  },
  {
   "cell_type": "code",
   "execution_count": 4,
   "metadata": {
    "collapsed": true
   },
   "outputs": [],
   "source": [
    "import random"
   ]
  },
  {
   "cell_type": "code",
   "execution_count": 665,
   "metadata": {},
   "outputs": [
    {
     "name": "stdout",
     "output_type": "stream",
     "text": [
      "Hello, TensorFlow!\n"
     ]
    }
   ],
   "source": [
    "import tensorflow as tf\n",
    "hello = tf.constant('Hello, TensorFlow!')\n",
    "sess = tf.Session()\n",
    "print(sess.run(hello))"
   ]
  },
  {
   "cell_type": "markdown",
   "metadata": {},
   "source": [
    "## Preprocessing"
   ]
  },
  {
   "cell_type": "code",
   "execution_count": 6,
   "metadata": {
    "collapsed": true
   },
   "outputs": [],
   "source": [
    "f_index = 'full_paper_index.txt'\n",
    "f_links = 'full_paper_reference_links.txt'\n",
    "d_index = pd.read_csv(f_index, sep='\\t')\n",
    "d_links = pd.read_csv(f_links, sep='\\t')"
   ]
  },
  {
   "cell_type": "code",
   "execution_count": 6,
   "metadata": {
    "scrolled": true
   },
   "outputs": [
    {
     "data": {
      "text/plain": [
       "'Complete Mining of Frequent Patterns from Graphs: Mining Graph Data'"
      ]
     },
     "execution_count": 6,
     "metadata": {},
     "output_type": "execute_result"
    }
   ],
   "source": [
    "d_index['title'][0]"
   ]
  },
  {
   "cell_type": "markdown",
   "metadata": {},
   "source": [
    "Seems that some source papers appeared in reference_links are not in the index file. So use papers in index file to construct the mapper and consider them as nodes during computation. "
   ]
  },
  {
   "cell_type": "code",
   "execution_count": 7,
   "metadata": {
    "collapsed": true
   },
   "outputs": [],
   "source": [
    "def construct_mapper(d, string):\n",
    "    mapper={}\n",
    "    for v in range(d.shape[0]):\n",
    "        mapper.setdefault(v, d[string][v])\n",
    "    print(v)\n",
    "    return mapper"
   ]
  },
  {
   "cell_type": "code",
   "execution_count": 8,
   "metadata": {},
   "outputs": [
    {
     "name": "stdout",
     "output_type": "stream",
     "text": [
      "125916\n",
      "125916\n",
      "125916\n"
     ]
    }
   ],
   "source": [
    "p_mapper = construct_mapper(d_index, 'paper_id')\n",
    "a_mapper = construct_mapper(d_index, 'authors')\n",
    "t_mapper = construct_mapper(d_index, 'title')"
   ]
  },
  {
   "cell_type": "code",
   "execution_count": 9,
   "metadata": {
    "collapsed": true
   },
   "outputs": [],
   "source": [
    "def construct_mapper_r(d, string):\n",
    "    mapper={}\n",
    "    for v in range(d.shape[0]):\n",
    "        mapper.setdefault(d[string][v], v)\n",
    "    print(v)\n",
    "    return mapper"
   ]
  },
  {
   "cell_type": "code",
   "execution_count": 10,
   "metadata": {},
   "outputs": [
    {
     "name": "stdout",
     "output_type": "stream",
     "text": [
      "125916\n",
      "125916\n",
      "125916\n"
     ]
    }
   ],
   "source": [
    "p_mapper_r = construct_mapper_r(d_index, 'paper_id')\n",
    "a_mapper_r = construct_mapper_r(d_index, 'authors')\n",
    "t_mapper_r = construct_mapper_r(d_index, 'title')"
   ]
  },
  {
   "cell_type": "markdown",
   "metadata": {},
   "source": [
    "### Create reference graph using integers rather than indices in d_links"
   ]
  },
  {
   "cell_type": "code",
   "execution_count": 11,
   "metadata": {
    "collapsed": true
   },
   "outputs": [],
   "source": [
    "f = open('ref_graph.txt', 'w')\n",
    "wr = csv.writer(f, delimiter='\\t', quoting=csv.QUOTE_NONE)\n",
    "for i in range(d_links.shape[0]):\n",
    "    source = p_mapper_r.get(d_links['source'][i], -1)\n",
    "    target = p_mapper_r.get(d_links['target'][i], -1)\n",
    "    if (source != -1) and (target != -1):\n",
    "        wr.writerow( (source, target) )\n",
    "f.close()\n",
    "ref_graph = np.loadtxt('ref_graph.txt', dtype='int', delimiter='\\t')"
   ]
  },
  {
   "cell_type": "code",
   "execution_count": 5,
   "metadata": {
    "collapsed": true
   },
   "outputs": [],
   "source": [
    "ref_graph = np.loadtxt('ref_graph.txt', dtype='int', delimiter='\\t')"
   ]
  },
  {
   "cell_type": "markdown",
   "metadata": {},
   "source": [
    "## Construct the graphs\n",
    "- Now we only need to use author_mapper2.txt, paper_mapper2.txt as mappers. \n",
    "- f_coauthor_links.txt and f_paper_reference_links.txt as edges. "
   ]
  },
  {
   "cell_type": "code",
   "execution_count": 11,
   "metadata": {
    "collapsed": true
   },
   "outputs": [],
   "source": [
    "G_paper = nx.Graph()"
   ]
  },
  {
   "cell_type": "code",
   "execution_count": 12,
   "metadata": {
    "collapsed": true
   },
   "outputs": [],
   "source": [
    "G_paper.add_nodes_from(p_mapper.keys())"
   ]
  },
  {
   "cell_type": "code",
   "execution_count": 13,
   "metadata": {
    "collapsed": true
   },
   "outputs": [],
   "source": [
    "G_paper.add_edges_from(ref_graph)"
   ]
  },
  {
   "cell_type": "markdown",
   "metadata": {},
   "source": [
    "## Link Predictions: preparing data"
   ]
  },
  {
   "cell_type": "code",
   "execution_count": null,
   "metadata": {
    "collapsed": true
   },
   "outputs": [],
   "source": [
    "component_list = sorted(nx.connected_component_subgraphs(G_paper), key=len, reverse = True)\n",
    "Gmax = component_list[0]"
   ]
  },
  {
   "cell_type": "code",
   "execution_count": 36,
   "metadata": {
    "collapsed": true
   },
   "outputs": [],
   "source": [
    "# load Gmax from file\n",
    "Gmax = nx.DiGraph()\n",
    "N = np.loadtxt('p_nodes')\n",
    "Gmax.add_nodes_from(N)\n",
    "E = np.loadtxt('p_edges')\n",
    "Gmax.add_edges_from(E)"
   ]
  },
  {
   "cell_type": "code",
   "execution_count": 37,
   "metadata": {},
   "outputs": [],
   "source": [
    "# Randomly sample 10% of the nodes to form a subgraph % to compatible with TF experiment, use 14010\n",
    "num_of_nodes = len(Gmax.nodes())\n",
    "nodeIndices = np.array(random.sample(range(num_of_nodes), 14010))\n",
    "N = N[nodeIndices]\n",
    "Gmax_sub = Gmax.subgraph(N)\n",
    "# 6385 edges, 14040 nodes"
   ]
  },
  {
   "cell_type": "code",
   "execution_count": 41,
   "metadata": {
    "collapsed": true
   },
   "outputs": [],
   "source": [
    "# mask 10% of the edges\n",
    "num_of_edges = len(Gmax_sub.edges())\n",
    "testEdgeIndices = np.array(random.sample(range(len(Gmax_sub.edges())), int(0.1*len(Gmax_sub.edges()))))\n",
    "trainEdgeIndices = np.setdiff1d(range(len(Gmax_sub.edges())), testEdgeIndices)"
   ]
  },
  {
   "cell_type": "code",
   "execution_count": 42,
   "metadata": {
    "collapsed": true
   },
   "outputs": [],
   "source": [
    "G_paper_train = nx.DiGraph()\n",
    "G_paper_train.add_nodes_from(Gmax_sub.nodes())\n",
    "G_paper_train.add_edges_from(np.array(Gmax_sub.edges())[trainEdgeIndices])"
   ]
  },
  {
   "cell_type": "code",
   "execution_count": 43,
   "metadata": {},
   "outputs": [
    {
     "name": "stdout",
     "output_type": "stream",
     "text": [
      "6385\n",
      "5747\n",
      "638\n"
     ]
    }
   ],
   "source": [
    "print num_of_edges\n",
    "n = len(Gmax_sub.edges())-len(G_paper_train.edges())\n",
    "print len(G_paper_train.edges())\n",
    "print n"
   ]
  },
  {
   "cell_type": "code",
   "execution_count": 62,
   "metadata": {
    "collapsed": true
   },
   "outputs": [],
   "source": [
    "def node_write(element_list, filename):\n",
    "    f = open(filename, 'w')\n",
    "    wr = csv.writer(f, delimiter=':', quoting=csv.QUOTE_NONE)\n",
    "    for element in element_list:\n",
    "        wr.writerow( [element] )\n",
    "    f.close()"
   ]
  },
  {
   "cell_type": "code",
   "execution_count": 76,
   "metadata": {
    "collapsed": true
   },
   "outputs": [],
   "source": [
    "def edge_write(edge_list, filename):\n",
    "    f = open(filename, 'w')\n",
    "    element_list = np.array(edge_list)\n",
    "    wr = csv.writer(f, delimiter='\\t', quoting=csv.QUOTE_NONE)\n",
    "    for element in element_list:\n",
    "        wr.writerow( (element[0], element[1]) )\n",
    "    f.close()"
   ]
  },
  {
   "cell_type": "code",
   "execution_count": 77,
   "metadata": {},
   "outputs": [],
   "source": [
    "node_write(list(G_paper_train.nodes()), 'G_paper_train_nodes.txt')\n",
    "edge_write(G_paper_train.edges(), 'G_paper_train_edges.txt')"
   ]
  },
  {
   "cell_type": "markdown",
   "metadata": {},
   "source": [
    "### Graph based features: Jaccard, adamic/Adar"
   ]
  },
  {
   "cell_type": "code",
   "execution_count": 80,
   "metadata": {
    "collapsed": true,
    "scrolled": true
   },
   "outputs": [],
   "source": [
    "import heapq\n",
    "def jaccard_sim(G):\n",
    "    score = list(nx.jaccard_coefficient(G))\n",
    "    # ranked_score = heapq.nlargest(N, score, key = operator.itemgetter(2))\n",
    "    return score"
   ]
  },
  {
   "cell_type": "code",
   "execution_count": 79,
   "metadata": {
    "collapsed": true
   },
   "outputs": [],
   "source": [
    "def adamic_adar_sim(G):\n",
    "    score = list(nx.adamic_adar_index(G))\n",
    "    # ranked_score = heapq.nlargest(N, score, key = operator.itemgetter(2))\n",
    "    return score"
   ]
  },
  {
   "cell_type": "code",
   "execution_count": 46,
   "metadata": {
    "collapsed": true
   },
   "outputs": [],
   "source": [
    "def result_writer(l, filename):\n",
    "    f = open(filename, 'w')\n",
    "    wr = csv.writer(f, delimiter=':', quoting=csv.QUOTE_NONE)\n",
    "    for e in l:\n",
    "        if e[2] != 0:\n",
    "            wr.writerow(e)\n",
    "    f.close"
   ]
  },
  {
   "cell_type": "code",
   "execution_count": null,
   "metadata": {
    "collapsed": true
   },
   "outputs": [],
   "source": [
    "jac_result = jaccard_sim(G_paper_train.to_undirected())\n",
    "ada_result = adamic_adar_sim(G_paper_train.to_undirected())"
   ]
  },
  {
   "cell_type": "code",
   "execution_count": 239,
   "metadata": {
    "collapsed": true
   },
   "outputs": [],
   "source": [
    "result_writer(jac_result, 'jac_full')\n",
    "result_writer(ada_result, 'ada_full')"
   ]
  },
  {
   "cell_type": "code",
   "execution_count": 99,
   "metadata": {
    "collapsed": true
   },
   "outputs": [],
   "source": [
    "jac = np.loadtxt('jac_full', delimiter=':')\n",
    "ada = np.loadtxt('ada_full', delimiter=':')"
   ]
  },
  {
   "cell_type": "markdown",
   "metadata": {},
   "source": [
    "### Content based features: title vector\n",
    "    "
   ]
  },
  {
   "cell_type": "code",
   "execution_count": 519,
   "metadata": {
    "collapsed": true
   },
   "outputs": [],
   "source": [
    "from sklearn.feature_extraction.text import CountVectorizer\n",
    "from nltk.corpus import stopwords\n",
    "from nltk.stem.wordnet import WordNetLemmatizer\n",
    "from sklearn.decomposition import PCA\n",
    "from sklearn.decomposition import TruncatedSVD\n",
    "from sklearn.random_projection import sparse_random_matrix\n",
    "from mpl_toolkits.mplot3d import Axes3D\n",
    "from sklearn.decomposition import KernelPCA\n",
    "from sklearn import manifold\n",
    "from sklearn.feature_extraction.text import TfidfVectorizer\n",
    "from sklearn.cluster import KMeans\n",
    "from sklearn.metrics import silhouette_samples, silhouette_score\n",
    "import matplotlib.cm as cm\n",
    "from sklearn.ensemble import RandomForestClassifier\n",
    "from sklearn.ensemble import BaggingClassifier\n",
    "from sklearn.neighbors import KNeighborsClassifier"
   ]
  },
  {
   "cell_type": "code",
   "execution_count": 82,
   "metadata": {
    "collapsed": true
   },
   "outputs": [],
   "source": [
    "stops = set(stopwords.words(\"english\"))\n",
    "lmtzr = WordNetLemmatizer()\n",
    "\n",
    "def pre_processing_a_sentence(sentence, method):\n",
    "    if method == 'BoW':\n",
    "        # remove punctuations\n",
    "        sentence_without_puncs = re.sub(\"[^a-zA-Z0-9]\", \" \", sentence)\n",
    "        # Tokenization\n",
    "        words_in_sentence = sentence_without_puncs.lower().split()\n",
    "        # Remove stop words\n",
    "        words_in_sentence = [w for w in words_in_sentence if not w in stops]\n",
    "        ## Wordlists\n",
    "        # words_in_sentence = [w for w in words_in_sentence if not w in BASIC]\n",
    "        # Lemmatize\n",
    "        words_lemmatized_in_sentence = []\n",
    "        for w in words_in_sentence:\n",
    "            w = lmtzr.lemmatize(w, pos = 'v')\n",
    "            words_lemmatized_in_sentence.append(w)\n",
    "    else:\n",
    "        # remove punctuations\n",
    "        sentence_without_puncs = re.sub(\"[^a-zA-Z0-9]\", \" \", sentence)\n",
    "        # Tokenization\n",
    "        words_in_sentence = sentence_without_puncs.lower()\n",
    "        \n",
    "        n2 = ngrams(words_in_sentence, n=2, punctuation=\".,;:!?()[]{}`''\\\"@#$^&*+-|=~_\", continuous=False)\n",
    "        joined_n2=[]\n",
    "        for phrase_words in n2:\n",
    "            joined_n2.append('-'.join(phrase_words))\n",
    "            \n",
    "        n3 = ngrams(words_in_sentence, n=3, punctuation=\".,;:!?()[]{}`''\\\"@#$^&*+-|=~_\", continuous=False)\n",
    "        joined_n3=[]\n",
    "        for phrase_words in n3:\n",
    "            joined_n3.append('-'.join(phrase_words))\n",
    "            \n",
    "        words_lemmatized_in_sentence = []\n",
    "        words_lemmatized_in_sentence.extend(joined_n2)\n",
    "        words_lemmatized_in_sentence.extend(joined_n3)\n",
    "        \n",
    "    return words_lemmatized_in_sentence\n",
    "\n",
    "def pre_processing(sentence_array, method):\n",
    "    num = sentence_array.size\n",
    "    words_array_clean = []\n",
    "    \n",
    "    # delete \"NaN\" (if there's any)\n",
    "    sentence_array_nan_indices = pd.isnull(sentence_array)\n",
    "    for i in xrange( 0, num ):\n",
    "        if(sentence_array_nan_indices[i] == False):\n",
    "            words_array_clean.append( str(pre_processing_a_sentence( sentence_array[i], method ) ) )\n",
    "        else:\n",
    "            words_array_clean.append( ' ' )\n",
    "            \n",
    "    return words_array_clean\n",
    "\n",
    "vectorizer_title = CountVectorizer(analyzer = \"word\",   \\\n",
    "                             tokenizer = None,    \\\n",
    "                             preprocessor = None, \\\n",
    "                             stop_words = None,   \\\n",
    "                             max_features = 10000) # 600*10 = 6000\n",
    "\n",
    "def feature_generation(word_array, vectorizer):\n",
    "    feature_array = vectorizer.fit_transform(word_array).toarray()\n",
    "    feature_list = vectorizer.get_feature_names()\n",
    "    return feature_array, feature_list"
   ]
  },
  {
   "cell_type": "code",
   "execution_count": 168,
   "metadata": {
    "collapsed": true
   },
   "outputs": [],
   "source": [
    "titles = np.array(d_index['title'])\n",
    "w_title = pre_processing(titles, 'BoW')\n",
    "feature_array_title, feature_list_title = feature_generation(w_title, vectorizer_title)"
   ]
  },
  {
   "cell_type": "code",
   "execution_count": 87,
   "metadata": {
    "collapsed": true
   },
   "outputs": [],
   "source": [
    "def PCA_analysis(feature_array, n):# find first n highest variances\n",
    "    pca = PCA(n_components = n) \n",
    "    pca.fit(feature_array)\n",
    "    feature_array_pca = pca.transform(feature_array)\n",
    "    \n",
    "    plt.figure(1)\n",
    "    \n",
    "    plt.subplot(211)\n",
    "    plt.plot(pca.explained_variance_ratio_, 'ro')\n",
    "    plt.ylabel('Percentage of variances')\n",
    "    leg = plt.legend(loc='best', ncol=2, mode=\"expand\", shadow=True, fancybox=True)\n",
    "    #leg.get_frame().set_alpha(0.5)\n",
    "    \n",
    "    plt.subplot(212)\n",
    "    plt.plot(pca.singular_values_, 'bo')\n",
    "    plt.ylabel('Singular values')\n",
    "    leg = plt.legend(loc='best', ncol=2, mode=\"expand\", shadow=True, fancybox=True)\n",
    "    #leg.get_frame().set_alpha(0.5)\n",
    "    plt.show()\n",
    "    \n",
    "    return feature_array_pca"
   ]
  },
  {
   "cell_type": "code",
   "execution_count": 169,
   "metadata": {
    "scrolled": true
   },
   "outputs": [
    {
     "data": {
      "image/png": "[encoded data removed]",
      "text/plain": [
       "<matplotlib.figure.Figure at 0x2b20b2a26f50>"
      ]
     },
     "metadata": {},
     "output_type": "display_data"
    }
   ],
   "source": [
    "feature_array_title_pca = PCA_analysis(feature_array_title, 50)"
   ]
  },
  {
   "cell_type": "code",
   "execution_count": 170,
   "metadata": {},
   "outputs": [
    {
     "data": {
      "text/plain": [
       "(125917, 50)"
      ]
     },
     "execution_count": 170,
     "metadata": {},
     "output_type": "execute_result"
    }
   ],
   "source": [
    "np.shape(feature_array_title_pca)"
   ]
  },
  {
   "cell_type": "code",
   "execution_count": 91,
   "metadata": {
    "collapsed": true
   },
   "outputs": [],
   "source": [
    "def scatter_visualization_3D(data_array):\n",
    "    fig = plt.figure()\n",
    "    ax = fig.add_subplot(111, projection='3d')\n",
    "    ax.scatter(data_array[:,0], data_array[:,1], data_array[:,2], c='red', s=10, label='Papers',\n",
    "               alpha=0.3, edgecolors='none')\n",
    "    ax.legend()\n",
    "    ax.grid(True)\n",
    "    plt.show()"
   ]
  },
  {
   "cell_type": "code",
   "execution_count": 171,
   "metadata": {},
   "outputs": [
    {
     "data": {
      "image/png": "[encoded data removed]",
      "text/plain": [
       "<matplotlib.figure.Figure at 0x2b20dfd02450>"
      ]
     },
     "metadata": {},
     "output_type": "display_data"
    }
   ],
   "source": [
    "scatter_visualization_3D(feature_array_title_pca)"
   ]
  },
  {
   "cell_type": "markdown",
   "metadata": {},
   "source": [
    "## Classification"
   ]
  },
  {
   "cell_type": "code",
   "execution_count": 111,
   "metadata": {},
   "outputs": [],
   "source": [
    "trainEdges = np.array(G_paper_train.edges()).astype(int)\n",
    "trainNodes = np.array(G_paper_train.nodes()).astype(int)"
   ]
  },
  {
   "cell_type": "code",
   "execution_count": 133,
   "metadata": {},
   "outputs": [],
   "source": [
    "testEdges = np.array(Gmax_sub.edges())[testEdgeIndices].astype(int)"
   ]
  },
  {
   "cell_type": "code",
   "execution_count": 533,
   "metadata": {},
   "outputs": [
    {
     "data": {
      "text/plain": [
       "947904"
      ]
     },
     "execution_count": 533,
     "metadata": {},
     "output_type": "execute_result"
    }
   ],
   "source": [
    "len(trainFeatures)"
   ]
  },
  {
   "cell_type": "code",
   "execution_count": 534,
   "metadata": {},
   "outputs": [
    {
     "data": {
      "text/plain": [
       "947904"
      ]
     },
     "execution_count": 534,
     "metadata": {},
     "output_type": "execute_result"
    }
   ],
   "source": [
    "len(trainLabels)"
   ]
  },
  {
   "cell_type": "code",
   "execution_count": 535,
   "metadata": {},
   "outputs": [
    {
     "data": {
      "text/plain": [
       "345922"
      ]
     },
     "execution_count": 535,
     "metadata": {},
     "output_type": "execute_result"
    }
   ],
   "source": [
    "np.nonzero(np.array(trainLabels))[0].size"
   ]
  },
  {
   "cell_type": "code",
   "execution_count": 531,
   "metadata": {},
   "outputs": [],
   "source": [
    "trainFeatures = [] # size 96971\n",
    "trainLabels = [] # size 96971, non zero elements 28820\n",
    "trainDatas=[]\n",
    "iter = 0\n",
    "for i in trainNodes[np.random.choice(trainNodes.size, int(0.005*trainNodes.size))]:\n",
    "    iter+=1\n",
    "    if iter % 100 == 0:\n",
    "        print iter\n",
    "    \n",
    "    for j in trainNodes:#[np.random.choice(trainNodes.size, int(0.1*trainNodes.size))]:\n",
    "        #t0=time.time()\n",
    "        if i != j:\n",
    "            if [i, j] in trainEdges:\n",
    "                trainLabels.append(1)\n",
    "            elif [i,j] in testEdges:\n",
    "                continue\n",
    "                trainLabels.append(-1)\n",
    "            else:\n",
    "                # ran = np.random.choice(2, 1, p=[0.9, 0.1])[0]\n",
    "                trainLabels.append(0)\n",
    "            for index in range(jac[:,0].size):\n",
    "                if jac[index,0].astype(int)==i and jac[index,1].astype(int)==j:\n",
    "                    jacada=[jac[index, 2], ada[index, 2]]\n",
    "                else:\n",
    "                    jacada=[0,0]\n",
    "            trainFeatures.append(np.append(jacada, np.absolute(feature_array_title_pca[i][0:5]-feature_array_title_pca[j][0:5])))\n",
    "            trainDatas.append([i,j])\n",
    "        #print time.time()-t0"
   ]
  },
  {
   "cell_type": "code",
   "execution_count": 532,
   "metadata": {},
   "outputs": [
    {
     "data": {
      "text/plain": [
       "1512854947.711421"
      ]
     },
     "execution_count": 532,
     "metadata": {},
     "output_type": "execute_result"
    }
   ],
   "source": [
    "time.time()"
   ]
  },
  {
   "cell_type": "code",
   "execution_count": 536,
   "metadata": {},
   "outputs": [
    {
     "data": {
      "text/plain": [
       "5743"
      ]
     },
     "execution_count": 536,
     "metadata": {},
     "output_type": "execute_result"
    }
   ],
   "source": [
    "len(testFeatures)"
   ]
  },
  {
   "cell_type": "code",
   "execution_count": 537,
   "metadata": {},
   "outputs": [
    {
     "data": {
      "text/plain": [
       "638"
      ]
     },
     "execution_count": 537,
     "metadata": {},
     "output_type": "execute_result"
    }
   ],
   "source": [
    "np.nonzero(np.array(testLabels))[0].size"
   ]
  },
  {
   "cell_type": "code",
   "execution_count": 476,
   "metadata": {},
   "outputs": [],
   "source": [
    "testFeatures = [] # 5743\n",
    "testLabels = [] # 638 non zero elements\n",
    "for [i,j] in testEdges:\n",
    "    for index in range(jac[:,0].size):\n",
    "        if jac[index,0].astype(int)==i and jac[index,1].astype(int)==j:\n",
    "            jacada=[jac[index, 2], ada[index, 2]]\n",
    "        else:\n",
    "            jacada=[0,0]\n",
    "    testLabels.append(1)\n",
    "    testFeatures.append(np.append(jacada, np.absolute(feature_array_title_pca[i][0:5]-feature_array_title_pca[j][0:5])))\n",
    "iter = 0\n",
    "# 0 edges should from nodes within testEdges!!!\n",
    "for i in trainNodes[np.random.choice(trainNodes.size, int(0.01*trainNodes.size))]:\n",
    "    for j in trainNodes[np.random.choice(trainNodes.size, int(0.01*trainNodes.size))]:\n",
    "        if iter > 638*8:\n",
    "            break\n",
    "        if i != j:\n",
    "            if [i, j] in testEdges:\n",
    "                continue\n",
    "                testLabels.append(1)\n",
    "            elif [i,j] in trainEdges:\n",
    "                continue\n",
    "                testLabels.append(-1)\n",
    "            else:\n",
    "                # ran = np.random.choice(2, 1, p=[0.9, 0.1])[0]\n",
    "                iter+=1\n",
    "                testLabels.append(0)\n",
    "        for index in range(jac[:,0].size):\n",
    "                if jac[index,0].astype(int)==i and jac[index,1].astype(int)==j:\n",
    "                    jacada=[jac[index, 2], ada[index, 2]]\n",
    "                else:\n",
    "                    jacada=[0,0]\n",
    "        testFeatures.append(np.append(jacada, np.absolute(feature_array_title_pca[i][0:5]-feature_array_title_pca[j][0:5])))"
   ]
  },
  {
   "cell_type": "code",
   "execution_count": 423,
   "metadata": {},
   "outputs": [],
   "source": [
    "def test_train_writer(f,l,filename):\n",
    "    fi = open(filename, 'w')\n",
    "    wr = csv.writer(fi, delimiter=':', quoting=csv.QUOTE_NONE)\n",
    "    for i in range(len(l)):\n",
    "        wr.writerow((f[i][0], f[i][1], f[i][2], f[i][3], f[i][4],f[i][5],f[i][6], l[i]))\n",
    "    fi.close()"
   ]
  },
  {
   "cell_type": "code",
   "execution_count": 538,
   "metadata": {},
   "outputs": [],
   "source": [
    "test_train_writer(trainFeatures, trainLabels, 'trainData.txt')"
   ]
  },
  {
   "cell_type": "code",
   "execution_count": 480,
   "metadata": {},
   "outputs": [],
   "source": [
    "test_train_writer(testFeatures, testLabels, 'testData.txt')"
   ]
  },
  {
   "cell_type": "code",
   "execution_count": 91,
   "metadata": {},
   "outputs": [
    {
     "data": {
      "text/plain": [
       "False"
      ]
     },
     "execution_count": 91,
     "metadata": {},
     "output_type": "execute_result"
    }
   ],
   "source": [
    "def similarity(a, b):\n",
    "    s = np.dot(feature_array_title_pca[a], feature_array_title_pca[b].T)\n",
    "    if s == 0:\n",
    "        return s\n",
    "    else:\n",
    "        s = s / (np.linalg.norm(feature_array_title_pca[a])*np.linalg.norm(feature_array_title_pca[b]))\n",
    "        return s"
   ]
  },
  {
   "cell_type": "code",
   "execution_count": 481,
   "metadata": {
    "collapsed": true
   },
   "outputs": [],
   "source": [
    "clf = RandomForestClassifier(\n",
    "        criterion = 'entropy', #gini\n",
    "        n_estimators=100, \n",
    "        max_depth = 25,   \n",
    "        min_samples_leaf = 1,\n",
    "        n_jobs = 16,\n",
    "        random_state = 0\n",
    "       )"
   ]
  },
  {
   "cell_type": "code",
   "execution_count": 539,
   "metadata": {
    "collapsed": true
   },
   "outputs": [],
   "source": [
    "w = np.array([3.6 if i==1 else 1 for i in trainLabels])"
   ]
  },
  {
   "cell_type": "code",
   "execution_count": 650,
   "metadata": {},
   "outputs": [],
   "source": [
    "trainJacs=[]\n",
    "for i in range(len(testFeatures)):\n",
    "    trainJacs.append(trainFeatures[i][0])"
   ]
  },
  {
   "cell_type": "code",
   "execution_count": null,
   "metadata": {
    "collapsed": true
   },
   "outputs": [],
   "source": [
    "ww = np.array([40 if i>=0.01 else 1 for i in trainJacs]) # didn't use. As can't extract nonzero, sampling didnt rach any 1"
   ]
  },
  {
   "cell_type": "code",
   "execution_count": 540,
   "metadata": {},
   "outputs": [
    {
     "data": {
      "text/plain": [
       "RandomForestClassifier(bootstrap=True, class_weight=None, criterion='entropy',\n",
       "            max_depth=25, max_features='auto', max_leaf_nodes=None,\n",
       "            min_impurity_decrease=0.0, min_impurity_split=None,\n",
       "            min_samples_leaf=1, min_samples_split=2,\n",
       "            min_weight_fraction_leaf=0.0, n_estimators=100, n_jobs=16,\n",
       "            oob_score=False, random_state=0, verbose=0, warm_start=False)"
      ]
     },
     "execution_count": 540,
     "metadata": {},
     "output_type": "execute_result"
    }
   ],
   "source": [
    "clf.fit(trainFeatures, trainLabels, sample_weight=w)"
   ]
  },
  {
   "cell_type": "code",
   "execution_count": 541,
   "metadata": {},
   "outputs": [
    {
     "name": "stdout",
     "output_type": "stream",
     "text": [
      "0.925287792857\n"
     ]
    }
   ],
   "source": [
    "print clf.score(trainFeatures, trainLabels)"
   ]
  },
  {
   "cell_type": "code",
   "execution_count": 542,
   "metadata": {},
   "outputs": [
    {
     "name": "stdout",
     "output_type": "stream",
     "text": [
      "0.58575657322\n"
     ]
    }
   ],
   "source": [
    "print clf.score(testFeatures, testLabels)"
   ]
  },
  {
   "cell_type": "markdown",
   "metadata": {},
   "source": [
    "### Try different similarity metrics"
   ]
  },
  {
   "cell_type": "code",
   "execution_count": 396,
   "metadata": {
    "collapsed": true
   },
   "outputs": [],
   "source": [
    "from sklearn.naive_bayes import MultinomialNB\n",
    "from sklearn.naive_bayes import GaussianNB\n",
    "from sklearn.tree import DecisionTreeClassifier\n",
    "from sklearn.neighbors import KNeighborsClassifier\n",
    "from sklearn import cross_validation\n",
    "from sklearn.ensemble import AdaBoostClassifier\n",
    "from sklearn.ensemble import BaggingClassifier\n",
    "from sklearn.ensemble import RandomForestClassifier"
   ]
  },
  {
   "cell_type": "code",
   "execution_count": 543,
   "metadata": {},
   "outputs": [
    {
     "name": "stdout",
     "output_type": "stream",
     "text": [
      "0.701826345284\n",
      "0.777642347205\n"
     ]
    }
   ],
   "source": [
    "# NN\n",
    "from sklearn.neural_network import MLPClassifier\n",
    "clf2 = MLPClassifier(alpha=0.00001) \n",
    "clf2.fit(trainFeatures, trainLabels) \n",
    "print clf2.score(trainFeatures, trainLabels) \n",
    "print clf2.score(testFeatures, testLabels)"
   ]
  },
  {
   "cell_type": "code",
   "execution_count": 520,
   "metadata": {},
   "outputs": [],
   "source": [
    "clf3 = BaggingClassifier(KNeighborsClassifier(),max_samples=0.8, max_features=7)"
   ]
  },
  {
   "cell_type": "code",
   "execution_count": 544,
   "metadata": {},
   "outputs": [
    {
     "data": {
      "text/plain": [
       "BaggingClassifier(base_estimator=KNeighborsClassifier(algorithm='auto', leaf_size=30, metric='minkowski',\n",
       "           metric_params=None, n_jobs=1, n_neighbors=5, p=2,\n",
       "           weights='uniform'),\n",
       "         bootstrap=True, bootstrap_features=False, max_features=7,\n",
       "         max_samples=0.8, n_estimators=10, n_jobs=1, oob_score=False,\n",
       "         random_state=None, verbose=0, warm_start=False)"
      ]
     },
     "execution_count": 544,
     "metadata": {},
     "output_type": "execute_result"
    }
   ],
   "source": [
    "clf3.fit(trainFeatures, trainLabels)"
   ]
  },
  {
   "cell_type": "code",
   "execution_count": 545,
   "metadata": {},
   "outputs": [
    {
     "name": "stdout",
     "output_type": "stream",
     "text": [
      "0.821026179866\n",
      "0.734111091764\n"
     ]
    }
   ],
   "source": [
    "print clf3.score(trainFeatures, trainLabels)\n",
    "print clf3.score(testFeatures, testLabels)"
   ]
  },
  {
   "cell_type": "markdown",
   "metadata": {},
   "source": [
    "### Thus, will use clf3, and now evaluate it. "
   ]
  },
  {
   "cell_type": "code",
   "execution_count": 302,
   "metadata": {
    "collapsed": true
   },
   "outputs": [],
   "source": [
    "node_mapper = {}\n",
    "iter = 0 \n",
    "for node in G_paper_train.nodes():\n",
    "    node_mapper[node] = iter\n",
    "    iter+=1"
   ]
  },
  {
   "cell_type": "code",
   "execution_count": 316,
   "metadata": {},
   "outputs": [],
   "source": [
    "node_mapper_r = {}\n",
    "iter = 0 \n",
    "for node in G_paper_train.nodes():\n",
    "    node_mapper_r[iter] = node\n",
    "    iter+=1"
   ]
  },
  {
   "cell_type": "code",
   "execution_count": 231,
   "metadata": {
    "collapsed": true
   },
   "outputs": [],
   "source": [
    "remapped_edges = [(node_mapper[node1], node_mapper[node2]) for node1, node2 in list(G_paper_train.edges())]"
   ]
  },
  {
   "cell_type": "code",
   "execution_count": 232,
   "metadata": {
    "collapsed": true
   },
   "outputs": [],
   "source": [
    "remapped_edges = set(remapped_edges)"
   ]
  },
  {
   "cell_type": "code",
   "execution_count": 254,
   "metadata": {},
   "outputs": [],
   "source": [
    "edge_list = list(Gmax_sub.edges())\n",
    "test_edges = [edge_list[i] for i in testEdgeIndices]\n",
    "remapped_test_edges = set([(node_mapper[node1], node_mapper[node2]) for node1, node2 in test_edges])"
   ]
  },
  {
   "cell_type": "code",
   "execution_count": 260,
   "metadata": {
    "collapsed": true
   },
   "outputs": [],
   "source": [
    "n = len(G_paper_train.nodes())"
   ]
  },
  {
   "cell_type": "code",
   "execution_count": 261,
   "metadata": {
    "collapsed": true
   },
   "outputs": [],
   "source": [
    "edges_to_sort = [[ j for j in range(n) if (i,j) not in remapped_edges ] for i in range(n)]"
   ]
  },
  {
   "cell_type": "code",
   "execution_count": 454,
   "metadata": {
    "collapsed": true
   },
   "outputs": [],
   "source": [
    "def get_feature(i,j):\n",
    "    for index in range(jac[:,0].size):\n",
    "        if jac[index,0]==node_mapper_r[i] and jac[index,1]==node_mapper_r[j]:\n",
    "            jacada=[jac[index, 2], ada[index, 2]]\n",
    "            break\n",
    "        else:\n",
    "            jacada=[0,0]\n",
    "    feature = np.append(jacada, np.absolute(feature_array_title_pca[node_mapper_r[i].astype(int)][0:5]-feature_array_title_pca[node_mapper_r[j].astype(int)][0:5]))\n",
    "    return feature"
   ]
  },
  {
   "cell_type": "code",
   "execution_count": 558,
   "metadata": {},
   "outputs": [
    {
     "data": {
      "text/plain": [
       "array([1])"
      ]
     },
     "execution_count": 558,
     "metadata": {},
     "output_type": "execute_result"
    }
   ],
   "source": [
    "clf.predict(np.array([0.0,0.0,0.056336530409033983,0.059671049746333582,0.073065420451745522,0.24417296839322658,0.16398579653851517]).reshape(1,-1))"
   ]
  },
  {
   "cell_type": "code",
   "execution_count": 559,
   "metadata": {},
   "outputs": [
    {
     "name": "stdout",
     "output_type": "stream",
     "text": [
      "126.435456991\n"
     ]
    }
   ],
   "source": [
    "t0=time.time()\n",
    "i = 16\n",
    "nodes_to_sort = edges_to_sort[i]\n",
    "p = heapq.nlargest(K, nodes_to_sort, key = lambda j : clf3.predict(get_feature(i,j).reshape(1,-1))[0])#PredictionMatrix[i][j])\n",
    "t1 = time.time()-t0\n",
    "print t1"
   ]
  },
  {
   "cell_type": "code",
   "execution_count": 565,
   "metadata": {},
   "outputs": [],
   "source": [
    "HRS = []\n",
    "hits = np.zeros(100)\n",
    "K = 100\n",
    "predicted = set()\n",
    "for i in range(100):# n is too much\n",
    "    nodes_to_sort = edges_to_sort[i]\n",
    "    p = heapq.nlargest(K, nodes_to_sort, key = lambda j : clf3.predict(get_feature(i,j).reshape(1,-1))[0])#PredictionMatrix[i][j])\n",
    "    for k in range(K):\n",
    "        j = p[k]\n",
    "        if (i,j) in remapped_test_edges: \n",
    "            for kk in range(k, K):\n",
    "                hits[kk] = hits[kk] + 1"
   ]
  },
  {
   "cell_type": "code",
   "execution_count": 566,
   "metadata": {
    "collapsed": true
   },
   "outputs": [],
   "source": [
    "for i in range(K):\n",
    "    HRS.append(hits[i]/len(test_edges))"
   ]
  },
  {
   "cell_type": "code",
   "execution_count": 667,
   "metadata": {},
   "outputs": [
    {
     "data": {
      "image/png": "[encoded data removed]",
      "text/plain": [
       "<matplotlib.figure.Figure at 0x2b262a75f590>"
      ]
     },
     "metadata": {},
     "output_type": "display_data"
    }
   ],
   "source": [
    "plt.plot(HRS)\n",
    "plt.show()"
   ]
  },
  {
   "cell_type": "markdown",
   "metadata": {},
   "source": [
    "## Matrix factorization"
   ]
  },
  {
   "cell_type": "code",
   "execution_count": 748,
   "metadata": {},
   "outputs": [
    {
     "data": {
      "text/plain": [
       "array([[32774, 43236],\n",
       "       [32783, 37201],\n",
       "       ..., \n",
       "       [98264, 99986],\n",
       "       [32731, 47473]])"
      ]
     },
     "execution_count": 748,
     "metadata": {},
     "output_type": "execute_result"
    }
   ],
   "source": [
    "np.array(list(G_paper_train.edges())).astype(int)"
   ]
  },
  {
   "cell_type": "code",
   "execution_count": 749,
   "metadata": {
    "collapsed": true
   },
   "outputs": [],
   "source": [
    "testEdgeIndices = np.array(random.sample(range(len(G_paper_train.edges())), int(0.1*len(G_paper_train.edges()))))\n",
    "trainEdgeIndices = np.setdiff1d(range(len(G_paper_train.edges())), testEdgeIndices)\n",
    "G_t = nx.DiGraph()\n",
    "G_t.add_nodes_from(G_paper_train.nodes())\n",
    "G_t.add_edges_from(np.array(list(G_paper_train.edges())).astype(int)[trainEdgeIndices])"
   ]
  },
  {
   "cell_type": "code",
   "execution_count": 750,
   "metadata": {
    "collapsed": true
   },
   "outputs": [],
   "source": [
    "P = nx.adjacency_matrix(G_t)"
   ]
  },
  {
   "cell_type": "code",
   "execution_count": 342,
   "metadata": {},
   "outputs": [
    {
     "data": {
      "text/plain": [
       "2272"
      ]
     },
     "execution_count": 342,
     "metadata": {},
     "output_type": "execute_result"
    }
   ],
   "source": [
    "np.linalg.matrix_rank(Ptrain)"
   ]
  },
  {
   "cell_type": "code",
   "execution_count": 775,
   "metadata": {},
   "outputs": [
    {
     "name": "stdout",
     "output_type": "stream",
     "text": [
      "(14010, 14010)\n",
      "0\n",
      "loss = 5101.82\n",
      "1\n",
      "loss = 5028.62\n",
      "2\n",
      "loss = 4949.49\n",
      "3\n",
      "loss = 4861.88\n",
      "4\n",
      "loss = 4764.16\n",
      "5\n",
      "loss = 4655.37\n",
      "6\n",
      "loss = 4534.95\n",
      "7\n",
      "loss = 4402.63\n",
      "8\n",
      "loss = 4258.34\n",
      "9\n",
      "loss = 4102.17\n",
      "10\n",
      "loss = 3934.39\n",
      "11\n",
      "loss = 3755.42\n",
      "12\n",
      "loss = 3565.87\n",
      "13\n",
      "loss = 3366.52\n",
      "14\n",
      "loss = 3158.37\n",
      "15\n",
      "loss = 2942.61\n",
      "16\n",
      "loss = 2720.69\n",
      "17\n",
      "loss = 2494.29\n",
      "18\n",
      "loss = 2265.32\n",
      "19\n",
      "loss = 2035.96\n",
      "20\n",
      "loss = 1808.6\n",
      "21\n",
      "loss = 1585.88\n",
      "22\n",
      "loss = 1370.59\n",
      "23\n",
      "loss = 1165.66\n",
      "24\n",
      "loss = 974.07\n",
      "25\n",
      "loss = 798.739\n",
      "26\n",
      "loss = 642.37\n",
      "27\n",
      "loss = 507.272\n",
      "28\n",
      "loss = 395.132\n",
      "29\n",
      "loss = 306.774\n",
      "30\n",
      "loss = 241.927\n",
      "31\n",
      "loss = 199.059\n",
      "32\n",
      "loss = 175.353\n",
      "33\n",
      "loss = 166.873\n",
      "34\n",
      "loss = 168.951\n",
      "35\n",
      "loss = 176.732\n",
      "36\n",
      "loss = 185.762\n",
      "37\n",
      "loss = 192.469\n",
      "38\n",
      "loss = 194.45\n",
      "39\n",
      "loss = 190.528\n",
      "40\n",
      "loss = 180.627\n",
      "41\n",
      "loss = 165.524\n",
      "42\n",
      "loss = 146.562\n",
      "43\n",
      "loss = 125.358\n",
      "44\n",
      "loss = 103.56\n",
      "45\n",
      "loss = 82.652\n",
      "46\n",
      "loss = 63.8279\n",
      "47\n",
      "loss = 47.9187\n",
      "48\n",
      "loss = 35.3768\n",
      "49\n",
      "loss = 26.3001\n",
      "50\n",
      "loss = 20.4859\n",
      "51\n",
      "loss = 17.5038\n",
      "52\n",
      "loss = 16.774\n",
      "53\n",
      "loss = 17.6464\n",
      "54\n",
      "loss = 19.4692\n",
      "55\n",
      "loss = 21.6463\n",
      "56\n",
      "loss = 23.6784\n",
      "57\n",
      "loss = 25.1887\n",
      "58\n",
      "loss = 25.9334\n",
      "59\n",
      "loss = 25.7986\n",
      "60\n",
      "loss = 24.7876\n",
      "61\n",
      "loss = 22.9991\n",
      "62\n",
      "loss = 20.6021\n",
      "63\n",
      "loss = 17.8079\n",
      "64\n",
      "loss = 14.8429\n",
      "65\n",
      "loss = 11.9242\n",
      "66\n",
      "loss = 9.23916\n",
      "67\n",
      "loss = 6.93094\n",
      "68\n",
      "loss = 5.08962\n",
      "69\n",
      "loss = 3.75028\n",
      "70\n",
      "loss = 2.89674\n",
      "71\n",
      "loss = 2.47023\n",
      "72\n",
      "loss = 2.38166\n",
      "73\n",
      "loss = 2.52553\n",
      "74\n",
      "loss = 2.79385\n",
      "75\n",
      "loss = 3.08839\n",
      "76\n",
      "loss = 3.32998\n",
      "77\n",
      "loss = 3.46407\n",
      "78\n",
      "loss = 3.46259\n",
      "79\n",
      "loss = 3.32222\n",
      "80\n",
      "loss = 3.05994\n",
      "81\n",
      "loss = 2.70703\n",
      "82\n",
      "loss = 2.30223\n",
      "83\n",
      "loss = 1.88539\n",
      "84\n",
      "loss = 1.49212\n",
      "85\n",
      "loss = 1.15002\n",
      "86\n",
      "loss = 0.876603\n",
      "87\n",
      "loss = 0.678895\n",
      "88\n",
      "loss = 0.55445\n",
      "89\n",
      "loss = 0.493317\n",
      "90\n",
      "loss = 0.480602\n",
      "91\n",
      "loss = 0.499149\n",
      "92\n",
      "loss = 0.532027\n",
      "93\n",
      "loss = 0.56452\n",
      "94\n",
      "loss = 0.585489\n",
      "95\n",
      "loss = 0.58805\n",
      "96\n",
      "loss = 0.569602\n",
      "97\n",
      "loss = 0.531313\n",
      "98\n",
      "loss = 0.477231\n",
      "99\n",
      "loss = 0.413189\n"
     ]
    }
   ],
   "source": [
    "Ptrain = P.todense()\n",
    "n = P.shape[0]\n",
    "print(Ptrain.shape)\n",
    "k = 100\n",
    "tf.reset_default_graph()\n",
    "Pt = tf.get_variable(\"Ptrain\", initializer = tf.constant(Ptrain.astype(np.float32)))\n",
    "# Weights = tf.maximum(0.0001, Ptrain)\n",
    "Weights = tf.maximum(0., Ptrain)\n",
    "W = tf.get_variable(\"W\", shape = [n,k])\n",
    "H = tf.get_variable(\"H\", shape = [n,k])\n",
    "Prediction = tf.matmul(W, H, transpose_b = True)\n",
    "Loss = tf.reduce_sum(tf.square(Prediction - Pt) * Weights)\n",
    "\n",
    "reg_coeff = 0.00001\n",
    "regularizer = reg_coeff * (tf.square(tf.norm(H)))\n",
    "\n",
    "Loss = Loss + regularizer\n",
    "\n",
    "learning_rate = 0.003\n",
    "train_step = tf.train.AdamOptimizer(learning_rate).minimize(Loss)\n",
    "\n",
    "with tf.Session() as sess:\n",
    "    sess.run(tf.global_variables_initializer())\n",
    "    for epoch in range(100):\n",
    "        print(epoch)\n",
    "        sess.run(train_step)\n",
    "        current_loss = sess.run(Loss)\n",
    "        print(\"loss = \" + str(current_loss))\n",
    "    PredictionMatrix = sess.run(Prediction)\n"
   ]
  },
  {
   "cell_type": "code",
   "execution_count": 752,
   "metadata": {
    "collapsed": true
   },
   "outputs": [],
   "source": [
    "node_mapper = {}\n",
    "iter = 0 \n",
    "for node in G_t.nodes():\n",
    "    node_mapper[node] = iter\n",
    "    iter+=1"
   ]
  },
  {
   "cell_type": "code",
   "execution_count": 753,
   "metadata": {
    "collapsed": true
   },
   "outputs": [],
   "source": [
    "remapped_edges = [(node_mapper[node1], node_mapper[node2]) for node1, node2 in list(G_t.edges())]"
   ]
  },
  {
   "cell_type": "code",
   "execution_count": 754,
   "metadata": {
    "collapsed": true
   },
   "outputs": [],
   "source": [
    "remapped_edges = set(remapped_edges)"
   ]
  },
  {
   "cell_type": "code",
   "execution_count": 755,
   "metadata": {
    "collapsed": true
   },
   "outputs": [],
   "source": [
    "edge_list = list(G_paper_train.edges())\n",
    "test_edges = [edge_list[i] for i in testEdgeIndices]\n",
    "test_edges = set([(node_mapper[node1], node_mapper[node2]) for node1, node2 in test_edges])"
   ]
  },
  {
   "cell_type": "code",
   "execution_count": 756,
   "metadata": {
    "collapsed": true
   },
   "outputs": [],
   "source": [
    "edges_to_sort = [[ j for j in range(n) if (i,j) not in remapped_edges ] for i in range(n)]"
   ]
  },
  {
   "cell_type": "code",
   "execution_count": 367,
   "metadata": {
    "collapsed": true
   },
   "outputs": [],
   "source": [
    "K = 100\n",
    "predicted = set()\n",
    "for i in range(n):\n",
    "    nodes_to_sort = edges_to_sort[i]\n",
    "    p = heapq.nlargest(K, nodes_to_sort, key = lambda j : PredictionMatrix[i][j])\n",
    "    for j in p:\n",
    "        predicted.add( (i,j))"
   ]
  },
  {
   "cell_type": "code",
   "execution_count": 776,
   "metadata": {
    "collapsed": true
   },
   "outputs": [],
   "source": [
    "HRS = []\n",
    "hits = np.zeros(100)\n",
    "K = 100\n",
    "predicted = set()\n",
    "for i in range(n):\n",
    "    nodes_to_sort = edges_to_sort[i]\n",
    "    p = heapq.nlargest(K, nodes_to_sort, key = lambda j : PredictionMatrix[i][j])\n",
    "    for k in range(K):\n",
    "        j = p[k]\n",
    "        if (i,j) in test_edges: \n",
    "            for kk in range(k, K):\n",
    "                hits[kk] = hits[kk] + 1"
   ]
  },
  {
   "cell_type": "code",
   "execution_count": 777,
   "metadata": {
    "collapsed": true
   },
   "outputs": [],
   "source": [
    "for i in range(K):\n",
    "    HRS.append(hits[i]/len(test_edges))"
   ]
  },
  {
   "cell_type": "code",
   "execution_count": 746,
   "metadata": {
    "collapsed": true
   },
   "outputs": [
    {
     "data": {
      "text/plain": [
       "[0.0,\n",
       " 0.0,\n",
       " 0.0,\n",
       " 0.0,\n",
       " 0.0,\n",
       " 0.0,\n",
       " 0.0,\n",
       " 0.0,\n",
       " 0.0,\n",
       " 0.0,\n",
       " 0.0,\n",
       " 0.0,\n",
       " 0.0,\n",
       " 0.0,\n",
       " 0.0,\n",
       " 0.0,\n",
       " 0.0,\n",
       " 0.0,\n",
       " 0.0,\n",
       " 0.0,\n",
       " 0.0,\n",
       " 0.0,\n",
       " 0.0,\n",
       " 0.0,\n",
       " 0.0,\n",
       " 0.0,\n",
       " 0.0,\n",
       " 0.0,\n",
       " 0.0,\n",
       " 0.0,\n",
       " 0.0,\n",
       " 0.0,\n",
       " 0.0,\n",
       " 0.0,\n",
       " 0.0,\n",
       " 0.0,\n",
       " 0.0,\n",
       " 0.0,\n",
       " 0.0,\n",
       " 0.0,\n",
       " 0.0,\n",
       " 0.0,\n",
       " 0.0,\n",
       " 0.0,\n",
       " 0.0,\n",
       " 0.0,\n",
       " 0.0,\n",
       " 0.0,\n",
       " 0.0,\n",
       " 0.0,\n",
       " 0.0,\n",
       " 0.0,\n",
       " 0.0,\n",
       " 0.0,\n",
       " 0.0,\n",
       " 0.0,\n",
       " 0.0,\n",
       " 0.0,\n",
       " 0.0,\n",
       " 0.0,\n",
       " 0.0,\n",
       " 0.0,\n",
       " 0.0,\n",
       " 0.0,\n",
       " 0.0,\n",
       " 0.0,\n",
       " 0.0,\n",
       " 0.0,\n",
       " 0.0,\n",
       " 0.0,\n",
       " 0.0,\n",
       " 0.0,\n",
       " 0.0,\n",
       " 0.0,\n",
       " 0.0,\n",
       " 0.0,\n",
       " 0.0,\n",
       " 0.0,\n",
       " 0.0,\n",
       " 0.0,\n",
       " 0.0,\n",
       " 0.0,\n",
       " 0.0,\n",
       " 0.0,\n",
       " 0.0,\n",
       " 0.0,\n",
       " 0.0,\n",
       " 0.0,\n",
       " 0.0,\n",
       " 0.0,\n",
       " 0.0,\n",
       " 0.0,\n",
       " 0.0,\n",
       " 0.0,\n",
       " 0.0,\n",
       " 0.0,\n",
       " 0.0,\n",
       " 0.0,\n",
       " 0.0,\n",
       " 0.0]"
      ]
     },
     "execution_count": 746,
     "metadata": {},
     "output_type": "execute_result"
    }
   ],
   "source": [
    "HRS"
   ]
  },
  {
   "cell_type": "code",
   "execution_count": 778,
   "metadata": {},
   "outputs": [
    {
     "data": {
      "image/png": "[encoded data removed]",
      "text/plain": [
       "<matplotlib.figure.Figure at 0x2b266cdf53d0>"
      ]
     },
     "metadata": {},
     "output_type": "display_data"
    }
   ],
   "source": [
    "plt.plot(HRS)\n",
    "plt.show()"
   ]
  },
  {
   "cell_type": "code",
   "execution_count": 759,
   "metadata": {},
   "outputs": [
    {
     "data": {
      "image/png": "[encoded data removed]",
      "text/plain": [
       "<matplotlib.figure.Figure at 0x2b2673a3ac90>"
      ]
     },
     "metadata": {},
     "output_type": "display_data"
    }
   ],
   "source": [
    "plt.plot(HRS)\n",
    "plt.show()"
   ]
  },
  {
   "cell_type": "markdown",
   "metadata": {},
   "source": [
    "## IMC"
   ]
  },
  {
   "cell_type": "code",
   "execution_count": 662,
   "metadata": {
    "collapsed": true
   },
   "outputs": [],
   "source": [
    "trainFeaturesAll = feature_array_title_pca[trainNodes]"
   ]
  },
  {
   "cell_type": "code",
   "execution_count": 663,
   "metadata": {
    "collapsed": true
   },
   "outputs": [],
   "source": [
    "P = nx.adjacency_matrix(G_t)"
   ]
  },
  {
   "cell_type": "code",
   "execution_count": 770,
   "metadata": {},
   "outputs": [
    {
     "data": {
      "text/plain": [
       "(14010, 50)"
      ]
     },
     "execution_count": 770,
     "metadata": {},
     "output_type": "execute_result"
    }
   ],
   "source": [
    "trainFeaturesAll.shape"
   ]
  },
  {
   "cell_type": "code",
   "execution_count": 771,
   "metadata": {},
   "outputs": [
    {
     "name": "stdout",
     "output_type": "stream",
     "text": [
      "(14010, 14010)\n",
      "0\n",
      "loss = 2435.2, Reg = 0.00183167\n",
      "1\n",
      "loss = 2407.92, Reg = 0.00184332\n",
      "2\n",
      "loss = 2380.52, Reg = 0.00185503\n",
      "3\n",
      "loss = 2353.0, Reg = 0.0018668\n",
      "4\n",
      "loss = 2325.37, Reg = 0.00187861\n",
      "5\n",
      "loss = 2297.62, Reg = 0.00189047\n",
      "6\n",
      "loss = 2269.74, Reg = 0.00190237\n",
      "7\n",
      "loss = 2241.73, Reg = 0.00191432\n",
      "8\n",
      "loss = 2213.57, Reg = 0.0019263\n",
      "9\n",
      "loss = 2185.27, Reg = 0.00193832\n",
      "10\n",
      "loss = 2156.81, Reg = 0.00195038\n",
      "11\n",
      "loss = 2128.19, Reg = 0.00196246\n",
      "12\n",
      "loss = 2099.4, Reg = 0.00197456\n",
      "13\n",
      "loss = 2070.44, Reg = 0.00198669\n",
      "14\n",
      "loss = 2041.3, Reg = 0.00199884\n",
      "15\n",
      "loss = 2011.98, Reg = 0.002011\n",
      "16\n",
      "loss = 1982.47, Reg = 0.00202317\n",
      "17\n",
      "loss = 1952.75, Reg = 0.00203535\n",
      "18\n",
      "loss = 1922.83, Reg = 0.00204754\n",
      "19\n",
      "loss = 1892.7, Reg = 0.00205972\n",
      "20\n",
      "loss = 1862.34, Reg = 0.00207191\n",
      "21\n",
      "loss = 1831.76, Reg = 0.00208409\n",
      "22\n",
      "loss = 1800.95, Reg = 0.00209627\n",
      "23\n",
      "loss = 1769.89, Reg = 0.00210844\n",
      "24\n",
      "loss = 1738.59, Reg = 0.00212059\n",
      "25\n",
      "loss = 1707.04, Reg = 0.00213273\n",
      "26\n",
      "loss = 1675.23, Reg = 0.00214486\n",
      "27\n",
      "loss = 1643.16, Reg = 0.00215696\n",
      "28\n",
      "loss = 1610.83, Reg = 0.00216904\n",
      "29\n",
      "loss = 1578.23, Reg = 0.0021811\n",
      "30\n",
      "loss = 1545.37, Reg = 0.00219313\n",
      "31\n",
      "loss = 1512.24, Reg = 0.00220513\n",
      "32\n",
      "loss = 1478.84, Reg = 0.0022171\n",
      "33\n",
      "loss = 1445.17, Reg = 0.00222904\n",
      "34\n",
      "loss = 1411.24, Reg = 0.00224093\n",
      "35\n",
      "loss = 1377.05, Reg = 0.00225279\n",
      "36\n",
      "loss = 1342.6, Reg = 0.00226461\n",
      "37\n",
      "loss = 1307.92, Reg = 0.00227638\n",
      "38\n",
      "loss = 1273.01, Reg = 0.0022881\n",
      "39\n",
      "loss = 1237.88, Reg = 0.00229978\n",
      "40\n",
      "loss = 1202.55, Reg = 0.00231141\n",
      "41\n",
      "loss = 1167.03, Reg = 0.00232298\n",
      "42\n",
      "loss = 1131.35, Reg = 0.0023345\n",
      "43\n",
      "loss = 1095.52, Reg = 0.00234596\n",
      "44\n",
      "loss = 1059.56, Reg = 0.00235736\n",
      "45\n",
      "loss = 1023.5, Reg = 0.0023687\n",
      "46\n",
      "loss = 987.365, Reg = 0.00237997\n",
      "47\n",
      "loss = 951.19, Reg = 0.00239117\n",
      "48\n",
      "loss = 915.015, Reg = 0.00240231\n",
      "49\n",
      "loss = 878.871, Reg = 0.00241337\n",
      "50\n",
      "loss = 842.792, Reg = 0.00242435\n",
      "51\n",
      "loss = 806.828, Reg = 0.00243526\n",
      "52\n",
      "loss = 771.031, Reg = 0.00244608\n",
      "53\n",
      "loss = 735.453, Reg = 0.00245682\n",
      "54\n",
      "loss = 700.149, Reg = 0.00246746\n",
      "55\n",
      "loss = 665.171, Reg = 0.00247801\n",
      "56\n",
      "loss = 630.579, Reg = 0.00248846\n",
      "57\n",
      "loss = 596.431, Reg = 0.00249881\n",
      "58\n",
      "loss = 562.796, Reg = 0.00250905\n",
      "59\n",
      "loss = 529.732, Reg = 0.00251918\n",
      "60\n",
      "loss = 497.305, Reg = 0.00252919\n",
      "61\n",
      "loss = 465.586, Reg = 0.00253909\n",
      "62\n",
      "loss = 434.652, Reg = 0.00254885\n",
      "63\n",
      "loss = 404.573, Reg = 0.00255849\n",
      "64\n",
      "loss = 375.419, Reg = 0.00256799\n",
      "65\n",
      "loss = 347.251, Reg = 0.00257734\n",
      "66\n",
      "loss = 320.133, Reg = 0.00258655\n",
      "67\n",
      "loss = 294.125, Reg = 0.00259561\n",
      "68\n",
      "loss = 269.277, Reg = 0.0026045\n",
      "69\n",
      "loss = 245.62, Reg = 0.00261323\n",
      "70\n",
      "loss = 223.205, Reg = 0.00262179\n",
      "71\n",
      "loss = 202.067, Reg = 0.00263017\n",
      "72\n",
      "loss = 182.223, Reg = 0.00263837\n",
      "73\n",
      "loss = 163.688, Reg = 0.00264638\n",
      "74\n",
      "loss = 146.468, Reg = 0.0026542\n",
      "75\n",
      "loss = 130.571, Reg = 0.00266182\n",
      "76\n",
      "loss = 115.99, Reg = 0.00266923\n",
      "77\n",
      "loss = 102.699, Reg = 0.00267645\n",
      "78\n",
      "loss = 90.6633, Reg = 0.00268344\n",
      "79\n",
      "loss = 79.8424, Reg = 0.00269022\n",
      "80\n",
      "loss = 70.1781, Reg = 0.00269678\n",
      "81\n",
      "loss = 61.5997, Reg = 0.00270312\n",
      "82\n",
      "loss = 54.0265, Reg = 0.00270923\n",
      "83\n",
      "loss = 47.3847, Reg = 0.00271511\n",
      "84\n",
      "loss = 41.603, Reg = 0.00272077\n",
      "85\n",
      "loss = 36.5917, Reg = 0.00272621\n",
      "86\n",
      "loss = 32.2583, Reg = 0.00273142\n",
      "87\n",
      "loss = 28.5147, Reg = 0.00273641\n",
      "88\n",
      "loss = 25.2794, Reg = 0.00274118\n",
      "89\n",
      "loss = 22.4734, Reg = 0.00274574\n",
      "90\n",
      "loss = 20.0369, Reg = 0.00275008\n",
      "91\n",
      "loss = 17.9152, Reg = 0.00275421\n",
      "92\n",
      "loss = 16.0613, Reg = 0.00275815\n",
      "93\n",
      "loss = 14.444, Reg = 0.00276188\n",
      "94\n",
      "loss = 13.0257, Reg = 0.00276542\n",
      "95\n",
      "loss = 11.7836, Reg = 0.00276877\n",
      "96\n",
      "loss = 10.6935, Reg = 0.00277195\n",
      "97\n",
      "loss = 9.73327, Reg = 0.00277495\n",
      "98\n",
      "loss = 8.88784, Reg = 0.00277779\n",
      "99\n",
      "loss = 8.14128, Reg = 0.00278047\n"
     ]
    }
   ],
   "source": [
    "Ptrain = P.todense()\n",
    "n = P.shape[0]\n",
    "print(Ptrain.shape)\n",
    "k = 500\n",
    "f=trainFeaturesAll.shape[1]\n",
    "tf.reset_default_graph()\n",
    "Pt = tf.get_variable(\"Ptrain\", initializer = tf.constant(Ptrain.astype(np.float32)))\n",
    "x = tf.get_variable(\"trainFeaturesAll\", initializer = tf.constant(trainFeaturesAll.astype(np.float32)))\n",
    "# Weights = tf.maximum(0.0001, Ptrain)\n",
    "Weights = tf.maximum(0., Ptrain)\n",
    "W = tf.get_variable(\"W\", shape = [f,k])\n",
    "H = tf.get_variable(\"H\", shape = [f,k])\n",
    "#W1 = tf.get_variable(\"W1\", shape = [50,k])\n",
    "#W2 = tf.get_variable(\"W2\", shape = [n ,k])\n",
    "#H1 = tf.get_variable(\"H1\", shape = [50,k])\n",
    "#H2 = tf.get_variable(\"H2\", shape = [n, k])\n",
    "# Prediction = tf.matmul(tf.matmul(x, tf.matmul(W, H, transpose_b = True)), x, transpose_b = True)\n",
    "Prediction = tf.matmul(tf.nn.relu(tf.matmul(x,W)),tf.nn.relu(tf.matmul(x,H)),transpose_b=True)\n",
    "#W = tf.matmul(x,W1) + W2\n",
    "#H = tf.matmul(x,H1) + H2\n",
    "#Prediction = tf.matmul( W, H,transpose_b=True)\n",
    "Loss = tf.reduce_sum(tf.square(tf.maximum(0., tf.minimum(1.,Prediction)) - Pt) * Weights)\n",
    "\n",
    "reg_coeff = 0.00001\n",
    "#regularizer = reg_coeff * (tf.square(tf.norm(H2)) + tf.square(tf.norm(W2)) + tf.square(tf.norm(H1)) + tf.square(tf.norm(W1)))\n",
    "regularizer = reg_coeff * (tf.square(tf.norm(H)) + tf.square(tf.norm(W)))\n",
    "\n",
    "Loss = Loss + regularizer\n",
    "\n",
    "learning_rate = 0.0003\n",
    "train_step = tf.train.AdamOptimizer(learning_rate).minimize(Loss)\n",
    "with tf.Session() as sess:\n",
    "    sess.run(tf.global_variables_initializer())\n",
    "    for epoch in range(100):\n",
    "        print(epoch)\n",
    "        sess.run(train_step)\n",
    "        current_loss = sess.run(Loss)\n",
    "        print(\"loss = \" + str(current_loss) + \", Reg = \" + str(sess.run(regularizer)))\n",
    "    PredictionMatrix = sess.run(Prediction)"
   ]
  },
  {
   "cell_type": "code",
   "execution_count": 772,
   "metadata": {},
   "outputs": [],
   "source": [
    "HRS = []\n",
    "hits = np.zeros(100)\n",
    "K = 100\n",
    "predicted = set()\n",
    "for i in range(n):\n",
    "    nodes_to_sort = edges_to_sort[i]\n",
    "    p = heapq.nlargest(K, nodes_to_sort, key = lambda j : PredictionMatrix[i][j])\n",
    "    for k in range(K):\n",
    "        j = p[k]\n",
    "        if (i,j) in test_edges: \n",
    "            for kk in range(k, K):\n",
    "                hits[kk] = hits[kk] + 1"
   ]
  },
  {
   "cell_type": "code",
   "execution_count": 773,
   "metadata": {
    "collapsed": true
   },
   "outputs": [],
   "source": [
    "for i in range(K):\n",
    "    HRS.append(hits[i]/len(test_edges))"
   ]
  },
  {
   "cell_type": "code",
   "execution_count": 774,
   "metadata": {},
   "outputs": [
    {
     "data": {
      "image/png": "[encoded data removed]",
      "text/plain": [
       "<matplotlib.figure.Figure at 0x2b266d1b6450>"
      ]
     },
     "metadata": {},
     "output_type": "display_data"
    }
   ],
   "source": [
    "plt.plot(HRS)\n",
    "plt.show()"
   ]
  },
  {
   "cell_type": "code",
   "execution_count": 763,
   "metadata": {},
   "outputs": [
    {
     "data": {
      "image/png": "[encoded data removed]",
      "text/plain": [
       "<matplotlib.figure.Figure at 0x2b2673a3af10>"
      ]
     },
     "metadata": {},
     "output_type": "display_data"
    }
   ],
   "source": [
    "plt.plot(HRS)\n",
    "plt.show()"
   ]
  },
  {
   "cell_type": "code",
   "execution_count": 741,
   "metadata": {},
   "outputs": [
    {
     "data": {
      "image/png": "[encoded data removed]",
      "text/plain": [
       "<matplotlib.figure.Figure at 0x2b266ff013d0>"
      ]
     },
     "metadata": {},
     "output_type": "display_data"
    }
   ],
   "source": [
    "plt.plot(HRS)\n",
    "plt.show()"
   ]
  },
  {
   "cell_type": "code",
   "execution_count": 733,
   "metadata": {},
   "outputs": [
    {
     "data": {
      "image/png": "[encoded data removed]",
      "text/plain": [
       "<matplotlib.figure.Figure at 0x2b266f866f10>"
      ]
     },
     "metadata": {},
     "output_type": "display_data"
    }
   ],
   "source": [
    "plt.plot(HRS)\n",
    "plt.show()"
   ]
  },
  {
   "cell_type": "code",
   "execution_count": 725,
   "metadata": {},
   "outputs": [
    {
     "data": {
      "image/png": "[encoded data removed]",
      "text/plain": [
       "<matplotlib.figure.Figure at 0x2b266d008210>"
      ]
     },
     "metadata": {},
     "output_type": "display_data"
    }
   ],
   "source": [
    "plt.plot(HRS)\n",
    "plt.show()"
   ]
  },
  {
   "cell_type": "code",
   "execution_count": 708,
   "metadata": {},
   "outputs": [
    {
     "data": {
      "image/png": "[encoded data removed]",
      "text/plain": [
       "<matplotlib.figure.Figure at 0x2b266cdfd350>"
      ]
     },
     "metadata": {},
     "output_type": "display_data"
    }
   ],
   "source": [
    "plt.plot(HRS)\n",
    "plt.show()"
   ]
  },
  {
   "cell_type": "code",
   "execution_count": 704,
   "metadata": {},
   "outputs": [
    {
     "data": {
      "image/png": "[encoded data removed]",
      "text/plain": [
       "<matplotlib.figure.Figure at 0x2b266ce2f4d0>"
      ]
     },
     "metadata": {},
     "output_type": "display_data"
    }
   ],
   "source": [
    "plt.plot(HRS)\n",
    "plt.show()"
   ]
  },
  {
   "cell_type": "code",
   "execution_count": 700,
   "metadata": {},
   "outputs": [
    {
     "data": {
      "image/png": "[encoded data removed]",
      "text/plain": [
       "<matplotlib.figure.Figure at 0x2b25c349b090>"
      ]
     },
     "metadata": {},
     "output_type": "display_data"
    }
   ],
   "source": [
    "plt.plot(HRS)\n",
    "plt.show()"
   ]
  },
  {
   "cell_type": "code",
   "execution_count": 696,
   "metadata": {},
   "outputs": [
    {
     "data": {
      "image/png": "[encoded data removed]",
      "text/plain": [
       "<matplotlib.figure.Figure at 0x2b25c354e910>"
      ]
     },
     "metadata": {},
     "output_type": "display_data"
    }
   ],
   "source": [
    "plt.plot(HRS)\n",
    "plt.show()"
   ]
  },
  {
   "cell_type": "code",
   "execution_count": 692,
   "metadata": {},
   "outputs": [
    {
     "data": {
      "image/png": "[encoded data removed]",
      "text/plain": [
       "<matplotlib.figure.Figure at 0x2b25c36f4e50>"
      ]
     },
     "metadata": {},
     "output_type": "display_data"
    }
   ],
   "source": [
    "plt.plot(HRS)\n",
    "plt.show()"
   ]
  }
 ],
 "metadata": {
  "kernelspec": {
   "display_name": "Python 2",
   "language": "python",
   "name": "python2"
  },
  "language_info": {
   "codemirror_mode": {
    "name": "ipython",
    "version": 2
   },
   "file_extension": ".py",
   "mimetype": "text/x-python",
   "name": "python",
   "nbconvert_exporter": "python",
   "pygments_lexer": "ipython2",
   "version": "2.7.14"
  }
 },
 "nbformat": 4,
 "nbformat_minor": 2
}

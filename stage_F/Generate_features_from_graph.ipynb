{
 "cells": [
  {
   "cell_type": "code",
   "execution_count": 2,
   "metadata": {},
   "outputs": [],
   "source": [
    "import nltk\n",
    "import matplotlib.pyplot as plt\n",
    "import numpy as np\n",
    "import pandas as pd\n",
    "import re\n",
    "import networkx as nx\n",
    "import csv\n",
    "import operator\n",
    "from sklearn import cross_validation\n",
    "from random import choice\n",
    "import random\n",
    "from sklearn.feature_extraction.text import CountVectorizer\n",
    "from nltk.corpus import stopwords\n",
    "from nltk.stem.wordnet import WordNetLemmatizer\n",
    "from sklearn.decomposition import PCA\n",
    "from sklearn.decomposition import TruncatedSVD\n",
    "from sklearn.random_projection import sparse_random_matrix\n",
    "from mpl_toolkits.mplot3d import Axes3D\n",
    "from sklearn.decomposition import KernelPCA\n",
    "from sklearn import manifold\n",
    "from sklearn.feature_extraction.text import TfidfVectorizer\n",
    "from sklearn.cluster import KMeans\n",
    "from sklearn.metrics import silhouette_samples, silhouette_score\n",
    "import matplotlib.cm as cm\n",
    "from sklearn.ensemble import RandomForestClassifier"
   ]
  },
  {
   "cell_type": "code",
   "execution_count": 3,
   "metadata": {
    "collapsed": true
   },
   "outputs": [],
   "source": [
    "f_index = 'full_paper_index.txt'\n",
    "f_links = 'full_paper_reference_links.txt'\n",
    "d_index = pd.read_csv(f_index, sep='\\t')\n",
    "d_links = pd.read_csv(f_links, sep='\\t')"
   ]
  },
  {
   "cell_type": "code",
   "execution_count": 14,
   "metadata": {
    "collapsed": true
   },
   "outputs": [],
   "source": [
    "import heapq\n",
    "def jaccard_sim(G):\n",
    "    score = list(nx.jaccard_coefficient(G))\n",
    "    # ranked_score = heapq.nlargest(N, score, key = operator.itemgetter(2))\n",
    "    return score"
   ]
  },
  {
   "cell_type": "code",
   "execution_count": 15,
   "metadata": {
    "collapsed": true
   },
   "outputs": [],
   "source": [
    "def adamic_adar_sim(G):\n",
    "    score = list(nx.adamic_adar_index(G))\n",
    "    # ranked_score = heapq.nlargest(N, score, key = operator.itemgetter(2))\n",
    "    return score"
   ]
  },
  {
   "cell_type": "code",
   "execution_count": 20,
   "metadata": {
    "collapsed": true
   },
   "outputs": [],
   "source": [
    "def result_writer(l, filename):\n",
    "    f = open(filename, 'w')\n",
    "    wr = csv.writer(f, delimiter=':', quoting=csv.QUOTE_NONE)\n",
    "    for e in l:\n",
    "        if e[2] != 0:\n",
    "            wr.writerow(e)\n",
    "    f.close"
   ]
  },
  {
   "cell_type": "code",
   "execution_count": 12,
   "metadata": {},
   "outputs": [],
   "source": [
    "G_paper_train = nx.DiGraph()\n",
    "N = np.loadtxt('G_paper_train_nodes.txt')\n",
    "E = np.loadtxt('G_paper_train_edges.txt')\n",
    "G_paper_train.add_nodes_from(N)\n",
    "G_paper_train.add_edges_from(E)"
   ]
  },
  {
   "cell_type": "code",
   "execution_count": 16,
   "metadata": {},
   "outputs": [],
   "source": [
    "jac_result = jaccard_sim(G_paper_train.to_undirected())\n",
    "ada_result = adamic_adar_sim(G_paper_train.to_undirected())"
   ]
  },
  {
   "cell_type": "code",
   "execution_count": 21,
   "metadata": {},
   "outputs": [],
   "source": [
    "result_writer(jac_result, 'jac_full')\n",
    "result_writer(ada_result, 'ada_full')"
   ]
  },
  {
   "cell_type": "code",
   "execution_count": 33,
   "metadata": {},
   "outputs": [
    {
     "data": {
      "text/plain": [
       "8.1783375"
      ]
     },
     "execution_count": 33,
     "metadata": {},
     "output_type": "execute_result"
    }
   ],
   "source": [
    "0.03*14010*14010/3600*0.005"
   ]
  }
 ],
 "metadata": {
  "kernelspec": {
   "display_name": "Python 2",
   "language": "python",
   "name": "python2"
  },
  "language_info": {
   "codemirror_mode": {
    "name": "ipython",
    "version": 2
   },
   "file_extension": ".py",
   "mimetype": "text/x-python",
   "name": "python",
   "nbconvert_exporter": "python",
   "pygments_lexer": "ipython2",
   "version": "2.7.14"
  }
 },
 "nbformat": 4,
 "nbformat_minor": 2
}

{
 "cells": [
  {
   "cell_type": "markdown",
   "metadata": {},
   "source": [
    "# Recommendation system\n"
   ]
  },
  {
   "cell_type": "code",
   "execution_count": 24,
   "metadata": {
    "collapsed": false
   },
   "outputs": [
    {
     "name": "stderr",
     "output_type": "stream",
     "text": [
      "/Users/luy0a/anaconda/lib/python2.7/site-packages/sklearn/cross_validation.py:44: DeprecationWarning: This module was deprecated in version 0.18 in favor of the model_selection module into which all the refactored classes and functions are moved. Also note that the interface of the new CV iterators are different from that of this module. This module will be removed in 0.20.\n",
      "  \"This module will be removed in 0.20.\", DeprecationWarning)\n"
     ]
    }
   ],
   "source": [
    "import math\n",
    "import matplotlib.pyplot as plt\n",
    "import random\n",
    "import numpy as np\n",
    "%matplotlib inline\n",
    "from sklearn import cross_validation"
   ]
  },
  {
   "cell_type": "code",
   "execution_count": 20,
   "metadata": {
    "collapsed": false
   },
   "outputs": [],
   "source": [
    "# load the data\n",
    "# sort -k1 -n -r  selected_films.txt | head\n",
    "film_years = []\n",
    "film_titles = []\n",
    "f_films = open('selected_films.txt', 'r')\n",
    "lines = f_films.readlines()\n",
    "for line in lines:\n",
    "    listOfLine = line.split(',')\n",
    "    film_years.append(int(listOfLine[0]))\n",
    "    title =''\n",
    "    for i in range(1, len(listOfLine)):\n",
    "        title = title + listOfLine[i]\n",
    "    film_titles.append(title)\n",
    "    \n",
    "# sort -k1 -n -r m_u_ratings.txt | head\n",
    "\"\"\"\n",
    "2000 999 2\n",
    "2000 9976 4\n",
    "2000 9959 4\n",
    "2000 9950 2\n",
    "2000 995 4\n",
    "2000 9945 4\n",
    "2000 9940 5\n",
    "2000 994 4\n",
    "2000 9938 3\n",
    "2000 993 2\n",
    "\"\"\"\n",
    "film_IDs = []\n",
    "user_IDs = []\n",
    "rates = []\n",
    "f_rates = open('m_u_ratings.txt', 'r')\n",
    "lines = f_rates.readlines()\n",
    "for line in lines:\n",
    "    listOfLine = line.split(' ')\n",
    "    film_IDs.append(int(listOfLine[0]))\n",
    "    user_IDs.append(int(listOfLine[1]))\n",
    "    rates.append(int(listOfLine[2]))"
   ]
  },
  {
   "cell_type": "markdown",
   "metadata": {},
   "source": [
    "## Task 1: Rating prediction\n",
    "Pick 90% of the data for training, 10% for testing and computing MAE. (10-fold cross validatoin)"
   ]
  },
  {
   "cell_type": "code",
   "execution_count": 29,
   "metadata": {
    "collapsed": false
   },
   "outputs": [],
   "source": [
    "M = len(rates)\n",
    "# random set sample\n",
    "tIndices = random.sample(range(M), int(0.9*M))"
   ]
  },
  {
   "cell_type": "code",
   "execution_count": 34,
   "metadata": {
    "collapsed": false
   },
   "outputs": [],
   "source": [
    "tfilm_IDs = [film_IDs[i] for i in tIndices]\n",
    "tuser_IDs = [user_IDs[i] for i in tIndices]\n",
    "trates = [rates[i] for i in tIndices]"
   ]
  },
  {
   "cell_type": "code",
   "execution_count": 35,
   "metadata": {
    "collapsed": true
   },
   "outputs": [],
   "source": [
    "array_tfilm_IDs = np.array(tfilm_IDs)\n",
    "array_tuser_IDs = np.array(tuser_IDs)\n",
    "array_trates = np.array(trates)"
   ]
  },
  {
   "cell_type": "markdown",
   "metadata": {},
   "source": [
    "### User-based collaborative filtering"
   ]
  },
  {
   "cell_type": "code",
   "execution_count": 77,
   "metadata": {
    "collapsed": true
   },
   "outputs": [],
   "source": [
    "def similarity_between_user(a, b): # a, b are user ID's\n",
    "    commonly_rated_films, common_rates_a, common_rates_b = func_commonly_rated_films(a, b)\n",
    "    # ave_a = np.mean(common_rates_a)\n",
    "    # ave_b = np.mean(common_rates_b)\n",
    "    person_coeff = pearson_correlation_coeff(common_rates_a, common_rates_b)\n",
    "    return person_coeff"
   ]
  },
  {
   "cell_type": "code",
   "execution_count": 96,
   "metadata": {
    "collapsed": true
   },
   "outputs": [],
   "source": [
    "def pearson_correlation_coeff(vec1, vec2):\n",
    "    mean1 = np.mean(vec1)*np.ones(np.shape(vec1)[0])\n",
    "    mean2 = np.mean(vec2)*np.ones(np.shape(vec2)[0])\n",
    "    \n",
    "    return np.dot(vec1-mean1, vec2-mean2.T)/np.sqrt(np.dot(vec1-mean1, vec1-mean1.T)*np.dot(vec2-mean2, vec2-mean2.T))"
   ]
  },
  {
   "cell_type": "code",
   "execution_count": 108,
   "metadata": {
    "collapsed": true
   },
   "outputs": [],
   "source": [
    "def func_commonly_rated_films(a, b): # a, b are user ID's\n",
    "    films_rated_by_a, rates_by_a = rated_films(a)\n",
    "    films_rated_by_b, rates_by_b = rated_films(b)\n",
    "    \n",
    "    commonly_rated_indices_a = np.where(np.in1d(films_rated_by_a, films_rated_by_b))\n",
    "    commonly_rated_indices_b = np.where(np.in1d(films_rated_by_b, films_rated_by_a))\n",
    "    \n",
    "    commonly_rated_films = films_rated_by_a[commonly_rated_indices_a]\n",
    "    common_rates_a = rates_by_a[commonly_rated_indices_a]\n",
    "    \n",
    "    common_rates_b = rates_by_b[commonly_rated_indices_b]\n",
    "    \n",
    "    return commonly_rated_films, common_rates_a, common_rates_b"
   ]
  },
  {
   "cell_type": "code",
   "execution_count": 48,
   "metadata": {
    "collapsed": true
   },
   "outputs": [],
   "source": [
    "def rated_films(a):\n",
    "    films_rated = array_tfilm_IDs[np.where(array_tuser_IDs == a)]\n",
    "    rates_rated = array_trates[np.where(array_tuser_IDs == a)]\n",
    "    return films_rated, rates_rated"
   ]
  },
  {
   "cell_type": "code",
   "execution_count": 112,
   "metadata": {
    "collapsed": false
   },
   "outputs": [
    {
     "data": {
      "text/plain": [
       "0.1086649781005647"
      ]
     },
     "execution_count": 112,
     "metadata": {},
     "output_type": "execute_result"
    }
   ],
   "source": [
    "similarity_between_user(4229, 2974)"
   ]
  },
  {
   "cell_type": "code",
   "execution_count": 57,
   "metadata": {
    "collapsed": false
   },
   "outputs": [
    {
     "data": {
      "text/plain": [
       "array([4229, 7469, 1413, ..., 2974, 1732,  129])"
      ]
     },
     "execution_count": 57,
     "metadata": {},
     "output_type": "execute_result"
    }
   ],
   "source": [
    "array_tuser_IDs"
   ]
  }
 ],
 "metadata": {
  "kernelspec": {
   "display_name": "Python [Root]",
   "language": "python",
   "name": "Python [Root]"
  },
  "language_info": {
   "codemirror_mode": {
    "name": "ipython",
    "version": 2
   },
   "file_extension": ".py",
   "mimetype": "text/x-python",
   "name": "python",
   "nbconvert_exporter": "python",
   "pygments_lexer": "ipython2",
   "version": "2.7.12"
  }
 },
 "nbformat": 4,
 "nbformat_minor": 0
}

{
 "cells": [
  {
   "cell_type": "markdown",
   "metadata": {},
   "source": [
    "# Stage 4: Graph Mining\n",
    "\n",
    "## Construct the graph\n",
    "\n",
    "### import & input"
   ]
  },
  {
   "cell_type": "code",
   "execution_count": 2,
   "metadata": {
    "collapsed": true
   },
   "outputs": [],
   "source": [
    "import nltk\n",
    "import matplotlib.pyplot as plt\n",
    "import numpy as np\n",
    "import pandas as pd\n",
    "import re"
   ]
  },
  {
   "cell_type": "code",
   "execution_count": 3,
   "metadata": {
    "collapsed": true
   },
   "outputs": [],
   "source": [
    "import networkx as nx"
   ]
  },
  {
   "cell_type": "code",
   "execution_count": 4,
   "metadata": {
    "collapsed": true
   },
   "outputs": [],
   "source": [
    "import csv"
   ]
  },
  {
   "cell_type": "code",
   "execution_count": 5,
   "metadata": {
    "collapsed": true
   },
   "outputs": [],
   "source": [
    "import operator"
   ]
  },
  {
   "cell_type": "markdown",
   "metadata": {},
   "source": [
    "## Preprocessing"
   ]
  },
  {
   "cell_type": "code",
   "execution_count": 4,
   "metadata": {
    "collapsed": true
   },
   "outputs": [],
   "source": [
    "f_index = 'full_paper_index.txt'\n",
    "f_links = 'full_paper_reference_links.txt'\n",
    "d_index = pd.read_csv(f_index, sep='\\t')\n",
    "d_links = pd.read_csv(f_links, sep='\\t')"
   ]
  },
  {
   "cell_type": "code",
   "execution_count": 13,
   "metadata": {
    "scrolled": true
   },
   "outputs": [
    {
     "data": {
      "text/plain": [
       "'NE9955'"
      ]
     },
     "execution_count": 13,
     "metadata": {},
     "output_type": "execute_result"
    }
   ],
   "source": [
    "d_links['target'][1]"
   ]
  },
  {
   "cell_type": "code",
   "execution_count": 19,
   "metadata": {},
   "outputs": [
    {
     "data": {
      "text/plain": [
       "'NE9955'"
      ]
     },
     "execution_count": 19,
     "metadata": {},
     "output_type": "execute_result"
    }
   ],
   "source": [
    "d_links.loc[1][1]"
   ]
  },
  {
   "cell_type": "code",
   "execution_count": 22,
   "metadata": {},
   "outputs": [
    {
     "data": {
      "text/plain": [
       "337394"
      ]
     },
     "execution_count": 22,
     "metadata": {},
     "output_type": "execute_result"
    }
   ],
   "source": [
    "d_links.shape[0]"
   ]
  },
  {
   "cell_type": "code",
   "execution_count": 238,
   "metadata": {
    "collapsed": true
   },
   "outputs": [],
   "source": [
    "def construct_mapper(d):\n",
    "    mapper={}\n",
    "    v=0\n",
    "    for i in range(d.shape[0]):\n",
    "        for j in range(2):\n",
    "            if mapper.get(d.loc[i][j]) is None:\n",
    "                mapper.setdefault(d.loc[i][j], v)\n",
    "                v = v + 1\n",
    "    print(v)\n",
    "    return mapper"
   ]
  },
  {
   "cell_type": "code",
   "execution_count": 239,
   "metadata": {
    "collapsed": true
   },
   "outputs": [],
   "source": [
    "def construct_mapper_from_info(d):\n",
    "    mapper={}\n",
    "    v=0\n",
    "    for i in range(d.shape[0]):\n",
    "        if mapper.get(d.loc[i][0]) is None:\n",
    "            mapper.setdefault(d.loc[i][0], v)\n",
    "            v = v + 1\n",
    "    print(v)\n",
    "    return mapper"
   ]
  },
  {
   "cell_type": "code",
   "execution_count": 165,
   "metadata": {
    "collapsed": true
   },
   "outputs": [],
   "source": [
    "def map_writer(map, filename):\n",
    "    f = open(filename, 'w')\n",
    "    wr = csv.writer(f, delimiter=':', quoting=csv.QUOTE_NONE)\n",
    "    for key in map.keys():\n",
    "        wr.writerow( (key, map.get(key)) )\n",
    "    f.close()"
   ]
  },
  {
   "cell_type": "markdown",
   "metadata": {},
   "source": [
    "**Construct mappers to save time for future. DON'T run this again. **"
   ]
  },
  {
   "cell_type": "code",
   "execution_count": 242,
   "metadata": {},
   "outputs": [
    {
     "name": "stdout",
     "output_type": "stream",
     "text": [
      "133482\n",
      "125917\n"
     ]
    }
   ],
   "source": [
    "paper_mapper = construct_mapper(d_links)\n",
    "paper_mapper_from_info = construct_mapper_from_info(d_index)"
   ]
  },
  {
   "cell_type": "code",
   "execution_count": 263,
   "metadata": {},
   "outputs": [
    {
     "name": "stdout",
     "output_type": "stream",
     "text": [
      "133482\n"
     ]
    }
   ],
   "source": [
    "paper_mapper = construct_mapper(d_links)"
   ]
  },
  {
   "cell_type": "code",
   "execution_count": 243,
   "metadata": {
    "collapsed": true
   },
   "outputs": [],
   "source": [
    "map_writer(paper_mapper_from_info, 'paper_mapper_from_info.txt')"
   ]
  },
  {
   "cell_type": "markdown",
   "metadata": {},
   "source": [
    "#### co-author graph and mapper construct"
   ]
  },
  {
   "cell_type": "code",
   "execution_count": 244,
   "metadata": {
    "collapsed": true
   },
   "outputs": [],
   "source": [
    "arr_authors = np.array(d_index['authors'])"
   ]
  },
  {
   "cell_type": "code",
   "execution_count": 245,
   "metadata": {
    "collapsed": true
   },
   "outputs": [],
   "source": [
    "authors_list=[]\n",
    "for i in range(arr_authors.size):\n",
    "    authors_list.append(arr_authors[i].split(\" + \"))"
   ]
  },
  {
   "cell_type": "code",
   "execution_count": 479,
   "metadata": {
    "collapsed": true
   },
   "outputs": [],
   "source": [
    "f = open('coauthor_graph2.txt', 'w')\n",
    "wr = csv.writer(f, delimiter=':', quoting=csv.QUOTE_NONE)\n",
    "for authors_of_a_paper in authors_list:\n",
    "    if len(authors_of_a_paper) > 1:\n",
    "        for i in range( len(authors_of_a_paper) ):\n",
    "            for j in range(i+1, len(authors_of_a_paper)):\n",
    "                wr.writerow( (authors_of_a_paper[i],authors_of_a_paper[j]) )\n",
    "f.close()"
   ]
  },
  {
   "cell_type": "code",
   "execution_count": 247,
   "metadata": {
    "collapsed": true
   },
   "outputs": [],
   "source": [
    "all_authors_names = pd.read_csv('coauthor_graph.txt', header = None, delimiter=':', quoting=csv.QUOTE_NONE)"
   ]
  },
  {
   "cell_type": "code",
   "execution_count": 259,
   "metadata": {},
   "outputs": [
    {
     "name": "stdout",
     "output_type": "stream",
     "text": [
      "89027\n"
     ]
    }
   ],
   "source": [
    "author_mapper = construct_mapper(all_authors_names)"
   ]
  },
  {
   "cell_type": "code",
   "execution_count": 260,
   "metadata": {
    "collapsed": true,
    "scrolled": true
   },
   "outputs": [],
   "source": [
    "map_writer(author_mapper, 'author_mapper.txt')"
   ]
  },
  {
   "cell_type": "markdown",
   "metadata": {},
   "source": [
    "### Why there're different number of papers? \n",
    "Seems that some source papers appeared in reference_links are not in the index file. Remove them. "
   ]
  },
  {
   "cell_type": "code",
   "execution_count": 254,
   "metadata": {
    "collapsed": true
   },
   "outputs": [],
   "source": [
    "paper_set1=set(paper_mapper_from_info.keys())"
   ]
  },
  {
   "cell_type": "code",
   "execution_count": 255,
   "metadata": {
    "collapsed": true
   },
   "outputs": [],
   "source": [
    "paper_set2 = set(paper_mapper.keys())"
   ]
  },
  {
   "cell_type": "code",
   "execution_count": 256,
   "metadata": {
    "collapsed": true
   },
   "outputs": [],
   "source": [
    "paper_diff = paper_set2-paper_set1\n",
    "paper_diff = list(paper_diff)"
   ]
  },
  {
   "cell_type": "code",
   "execution_count": 257,
   "metadata": {},
   "outputs": [
    {
     "data": {
      "text/plain": [
       "0"
      ]
     },
     "execution_count": 257,
     "metadata": {},
     "output_type": "execute_result"
    }
   ],
   "source": [
    "len(paper_diff)"
   ]
  },
  {
   "cell_type": "code",
   "execution_count": 173,
   "metadata": {
    "collapsed": true
   },
   "outputs": [
    {
     "data": {
      "text/html": [
       "<div>\n",
       "<style>\n",
       "    .dataframe thead tr:only-child th {\n",
       "        text-align: right;\n",
       "    }\n",
       "\n",
       "    .dataframe thead th {\n",
       "        text-align: left;\n",
       "    }\n",
       "\n",
       "    .dataframe tbody tr th {\n",
       "        vertical-align: top;\n",
       "    }\n",
       "</style>\n",
       "<table border=\"1\" class=\"dataframe\">\n",
       "  <thead>\n",
       "    <tr style=\"text-align: right;\">\n",
       "      <th></th>\n",
       "      <th>source</th>\n",
       "      <th>target</th>\n",
       "    </tr>\n",
       "  </thead>\n",
       "  <tbody>\n",
       "    <tr>\n",
       "      <th>0</th>\n",
       "      <td>7DB0BE09</td>\n",
       "      <td>768A88AF</td>\n",
       "    </tr>\n",
       "    <tr>\n",
       "      <th>1</th>\n",
       "      <td>7DB0BE09</td>\n",
       "      <td>NE9955</td>\n",
       "    </tr>\n",
       "    <tr>\n",
       "      <th>2</th>\n",
       "      <td>7DB0BE09</td>\n",
       "      <td>NE9669</td>\n",
       "    </tr>\n",
       "    <tr>\n",
       "      <th>3</th>\n",
       "      <td>7DB0BE09</td>\n",
       "      <td>5835592B</td>\n",
       "    </tr>\n",
       "    <tr>\n",
       "      <th>4</th>\n",
       "      <td>7DB0BE09</td>\n",
       "      <td>NE9958</td>\n",
       "    </tr>\n",
       "    <tr>\n",
       "      <th>5</th>\n",
       "      <td>7DB0BE09</td>\n",
       "      <td>NE9957</td>\n",
       "    </tr>\n",
       "    <tr>\n",
       "      <th>6</th>\n",
       "      <td>7DB0BE09</td>\n",
       "      <td>7DE3BCB2</td>\n",
       "    </tr>\n",
       "    <tr>\n",
       "      <th>7</th>\n",
       "      <td>7DB0BE09</td>\n",
       "      <td>085B9585</td>\n",
       "    </tr>\n",
       "    <tr>\n",
       "      <th>8</th>\n",
       "      <td>7DB0BE09</td>\n",
       "      <td>NE9953</td>\n",
       "    </tr>\n",
       "    <tr>\n",
       "      <th>9</th>\n",
       "      <td>7DB0BE09</td>\n",
       "      <td>NE9952</td>\n",
       "    </tr>\n",
       "    <tr>\n",
       "      <th>10</th>\n",
       "      <td>7DB0BE09</td>\n",
       "      <td>NE9651</td>\n",
       "    </tr>\n",
       "    <tr>\n",
       "      <th>11</th>\n",
       "      <td>7DB0BE09</td>\n",
       "      <td>NE8817</td>\n",
       "    </tr>\n",
       "    <tr>\n",
       "      <th>12</th>\n",
       "      <td>7DB0BE09</td>\n",
       "      <td>842FB726</td>\n",
       "    </tr>\n",
       "    <tr>\n",
       "      <th>53</th>\n",
       "      <td>80458B06</td>\n",
       "      <td>NE9023</td>\n",
       "    </tr>\n",
       "    <tr>\n",
       "      <th>54</th>\n",
       "      <td>80458B06</td>\n",
       "      <td>8170810F</td>\n",
       "    </tr>\n",
       "    <tr>\n",
       "      <th>55</th>\n",
       "      <td>80458B06</td>\n",
       "      <td>NE9022</td>\n",
       "    </tr>\n",
       "    <tr>\n",
       "      <th>56</th>\n",
       "      <td>80458B06</td>\n",
       "      <td>5937CAD3</td>\n",
       "    </tr>\n",
       "    <tr>\n",
       "      <th>57</th>\n",
       "      <td>80458B06</td>\n",
       "      <td>792D83FB</td>\n",
       "    </tr>\n",
       "    <tr>\n",
       "      <th>58</th>\n",
       "      <td>80458B06</td>\n",
       "      <td>7C2CB970</td>\n",
       "    </tr>\n",
       "    <tr>\n",
       "      <th>59</th>\n",
       "      <td>80458B06</td>\n",
       "      <td>NE9026</td>\n",
       "    </tr>\n",
       "    <tr>\n",
       "      <th>60</th>\n",
       "      <td>80458B06</td>\n",
       "      <td>59490E98</td>\n",
       "    </tr>\n",
       "    <tr>\n",
       "      <th>61</th>\n",
       "      <td>80458B06</td>\n",
       "      <td>7D40AD43</td>\n",
       "    </tr>\n",
       "    <tr>\n",
       "      <th>62</th>\n",
       "      <td>80458B06</td>\n",
       "      <td>NE9021</td>\n",
       "    </tr>\n",
       "    <tr>\n",
       "      <th>63</th>\n",
       "      <td>80458B06</td>\n",
       "      <td>5E8280EC</td>\n",
       "    </tr>\n",
       "    <tr>\n",
       "      <th>64</th>\n",
       "      <td>80458B06</td>\n",
       "      <td>NE9019</td>\n",
       "    </tr>\n",
       "    <tr>\n",
       "      <th>65</th>\n",
       "      <td>80458B06</td>\n",
       "      <td>7DE3BCB2</td>\n",
       "    </tr>\n",
       "    <tr>\n",
       "      <th>66</th>\n",
       "      <td>80458B06</td>\n",
       "      <td>771CB48C</td>\n",
       "    </tr>\n",
       "    <tr>\n",
       "      <th>91</th>\n",
       "      <td>7DC3FDDC</td>\n",
       "      <td>NE9830</td>\n",
       "    </tr>\n",
       "    <tr>\n",
       "      <th>92</th>\n",
       "      <td>7DC3FDDC</td>\n",
       "      <td>NE9831</td>\n",
       "    </tr>\n",
       "    <tr>\n",
       "      <th>93</th>\n",
       "      <td>7DC3FDDC</td>\n",
       "      <td>0AB4A856</td>\n",
       "    </tr>\n",
       "    <tr>\n",
       "      <th>...</th>\n",
       "      <td>...</td>\n",
       "      <td>...</td>\n",
       "    </tr>\n",
       "    <tr>\n",
       "      <th>337364</th>\n",
       "      <td>2ECC22C3</td>\n",
       "      <td>80D43BF4</td>\n",
       "    </tr>\n",
       "    <tr>\n",
       "      <th>337365</th>\n",
       "      <td>2ECC22C3</td>\n",
       "      <td>756CF312</td>\n",
       "    </tr>\n",
       "    <tr>\n",
       "      <th>337366</th>\n",
       "      <td>2ECC22C3</td>\n",
       "      <td>5E18660D</td>\n",
       "    </tr>\n",
       "    <tr>\n",
       "      <th>337367</th>\n",
       "      <td>59D4817B</td>\n",
       "      <td>7CD5EB20</td>\n",
       "    </tr>\n",
       "    <tr>\n",
       "      <th>337368</th>\n",
       "      <td>59D4817B</td>\n",
       "      <td>62857AC1</td>\n",
       "    </tr>\n",
       "    <tr>\n",
       "      <th>337369</th>\n",
       "      <td>59D4817B</td>\n",
       "      <td>7E7929B0</td>\n",
       "    </tr>\n",
       "    <tr>\n",
       "      <th>337370</th>\n",
       "      <td>59D4817B</td>\n",
       "      <td>7B50ED8B</td>\n",
       "    </tr>\n",
       "    <tr>\n",
       "      <th>337371</th>\n",
       "      <td>59D4817B</td>\n",
       "      <td>7D7AC28D</td>\n",
       "    </tr>\n",
       "    <tr>\n",
       "      <th>337372</th>\n",
       "      <td>59D4817B</td>\n",
       "      <td>7D0CC8AB</td>\n",
       "    </tr>\n",
       "    <tr>\n",
       "      <th>337373</th>\n",
       "      <td>59D4817B</td>\n",
       "      <td>766A07CD</td>\n",
       "    </tr>\n",
       "    <tr>\n",
       "      <th>337374</th>\n",
       "      <td>59D4817B</td>\n",
       "      <td>80B82883</td>\n",
       "    </tr>\n",
       "    <tr>\n",
       "      <th>337375</th>\n",
       "      <td>59D4817B</td>\n",
       "      <td>7902C4CE</td>\n",
       "    </tr>\n",
       "    <tr>\n",
       "      <th>337376</th>\n",
       "      <td>59D4817B</td>\n",
       "      <td>79871C09</td>\n",
       "    </tr>\n",
       "    <tr>\n",
       "      <th>337377</th>\n",
       "      <td>59D4817B</td>\n",
       "      <td>76D9F80D</td>\n",
       "    </tr>\n",
       "    <tr>\n",
       "      <th>337378</th>\n",
       "      <td>59D4817B</td>\n",
       "      <td>00532C72</td>\n",
       "    </tr>\n",
       "    <tr>\n",
       "      <th>337379</th>\n",
       "      <td>59D4817B</td>\n",
       "      <td>78DD358A</td>\n",
       "    </tr>\n",
       "    <tr>\n",
       "      <th>337380</th>\n",
       "      <td>59D4817B</td>\n",
       "      <td>5EB8CFF3</td>\n",
       "    </tr>\n",
       "    <tr>\n",
       "      <th>337381</th>\n",
       "      <td>84CFB618</td>\n",
       "      <td>776E90D9</td>\n",
       "    </tr>\n",
       "    <tr>\n",
       "      <th>337382</th>\n",
       "      <td>84CFB618</td>\n",
       "      <td>7B2B2992</td>\n",
       "    </tr>\n",
       "    <tr>\n",
       "      <th>337383</th>\n",
       "      <td>84CFB618</td>\n",
       "      <td>76717FBD</td>\n",
       "    </tr>\n",
       "    <tr>\n",
       "      <th>337384</th>\n",
       "      <td>84CFB618</td>\n",
       "      <td>08281D33</td>\n",
       "    </tr>\n",
       "    <tr>\n",
       "      <th>337385</th>\n",
       "      <td>84CFB618</td>\n",
       "      <td>7FCEF156</td>\n",
       "    </tr>\n",
       "    <tr>\n",
       "      <th>337386</th>\n",
       "      <td>84CFB618</td>\n",
       "      <td>70AFED7B</td>\n",
       "    </tr>\n",
       "    <tr>\n",
       "      <th>337387</th>\n",
       "      <td>84CFB618</td>\n",
       "      <td>015A69CA</td>\n",
       "    </tr>\n",
       "    <tr>\n",
       "      <th>337388</th>\n",
       "      <td>84CFB618</td>\n",
       "      <td>7883E800</td>\n",
       "    </tr>\n",
       "    <tr>\n",
       "      <th>337389</th>\n",
       "      <td>84CFB618</td>\n",
       "      <td>7979EB72</td>\n",
       "    </tr>\n",
       "    <tr>\n",
       "      <th>337390</th>\n",
       "      <td>84CFB618</td>\n",
       "      <td>7A63286F</td>\n",
       "    </tr>\n",
       "    <tr>\n",
       "      <th>337391</th>\n",
       "      <td>84CFB618</td>\n",
       "      <td>59D8AA3E</td>\n",
       "    </tr>\n",
       "    <tr>\n",
       "      <th>337392</th>\n",
       "      <td>84CFB618</td>\n",
       "      <td>743BAB17</td>\n",
       "    </tr>\n",
       "    <tr>\n",
       "      <th>337393</th>\n",
       "      <td>84CFB618</td>\n",
       "      <td>75F6DFC7</td>\n",
       "    </tr>\n",
       "  </tbody>\n",
       "</table>\n",
       "<p>161657 rows × 2 columns</p>\n",
       "</div>"
      ],
      "text/plain": [
       "          source    target\n",
       "0       7DB0BE09  768A88AF\n",
       "1       7DB0BE09    NE9955\n",
       "2       7DB0BE09    NE9669\n",
       "3       7DB0BE09  5835592B\n",
       "4       7DB0BE09    NE9958\n",
       "5       7DB0BE09    NE9957\n",
       "6       7DB0BE09  7DE3BCB2\n",
       "7       7DB0BE09  085B9585\n",
       "8       7DB0BE09    NE9953\n",
       "9       7DB0BE09    NE9952\n",
       "10      7DB0BE09    NE9651\n",
       "11      7DB0BE09    NE8817\n",
       "12      7DB0BE09  842FB726\n",
       "53      80458B06    NE9023\n",
       "54      80458B06  8170810F\n",
       "55      80458B06    NE9022\n",
       "56      80458B06  5937CAD3\n",
       "57      80458B06  792D83FB\n",
       "58      80458B06  7C2CB970\n",
       "59      80458B06    NE9026\n",
       "60      80458B06  59490E98\n",
       "61      80458B06  7D40AD43\n",
       "62      80458B06    NE9021\n",
       "63      80458B06  5E8280EC\n",
       "64      80458B06    NE9019\n",
       "65      80458B06  7DE3BCB2\n",
       "66      80458B06  771CB48C\n",
       "91      7DC3FDDC    NE9830\n",
       "92      7DC3FDDC    NE9831\n",
       "93      7DC3FDDC  0AB4A856\n",
       "...          ...       ...\n",
       "337364  2ECC22C3  80D43BF4\n",
       "337365  2ECC22C3  756CF312\n",
       "337366  2ECC22C3  5E18660D\n",
       "337367  59D4817B  7CD5EB20\n",
       "337368  59D4817B  62857AC1\n",
       "337369  59D4817B  7E7929B0\n",
       "337370  59D4817B  7B50ED8B\n",
       "337371  59D4817B  7D7AC28D\n",
       "337372  59D4817B  7D0CC8AB\n",
       "337373  59D4817B  766A07CD\n",
       "337374  59D4817B  80B82883\n",
       "337375  59D4817B  7902C4CE\n",
       "337376  59D4817B  79871C09\n",
       "337377  59D4817B  76D9F80D\n",
       "337378  59D4817B  00532C72\n",
       "337379  59D4817B  78DD358A\n",
       "337380  59D4817B  5EB8CFF3\n",
       "337381  84CFB618  776E90D9\n",
       "337382  84CFB618  7B2B2992\n",
       "337383  84CFB618  76717FBD\n",
       "337384  84CFB618  08281D33\n",
       "337385  84CFB618  7FCEF156\n",
       "337386  84CFB618  70AFED7B\n",
       "337387  84CFB618  015A69CA\n",
       "337388  84CFB618  7883E800\n",
       "337389  84CFB618  7979EB72\n",
       "337390  84CFB618  7A63286F\n",
       "337391  84CFB618  59D8AA3E\n",
       "337392  84CFB618  743BAB17\n",
       "337393  84CFB618  75F6DFC7\n",
       "\n",
       "[161657 rows x 2 columns]"
      ]
     },
     "execution_count": 173,
     "metadata": {},
     "output_type": "execute_result"
    }
   ],
   "source": [
    "d_links[d_links.source.isin(paper_diff) ]"
   ]
  },
  {
   "cell_type": "markdown",
   "metadata": {},
   "source": [
    "In bash:\n",
    "less full_paper_index.txt  | grep 7DEFE1F2 //nothing\n",
    "less full_paper_reference_links.txt  | grep 7DEFE1F2 //something "
   ]
  },
  {
   "cell_type": "markdown",
   "metadata": {},
   "source": [
    "**Remove those source papers not in index.txt from reference_links map and rewrite the paper_mapper.txt file. **"
   ]
  },
  {
   "cell_type": "code",
   "execution_count": 252,
   "metadata": {
    "collapsed": true
   },
   "outputs": [],
   "source": [
    "for source in paper_diff:\n",
    "    del paper_mapper[source]"
   ]
  },
  {
   "cell_type": "code",
   "execution_count": 264,
   "metadata": {
    "collapsed": true
   },
   "outputs": [],
   "source": [
    "map_writer(paper_mapper, 'paper_mapper.txt') # but this will have different number values and not continues"
   ]
  },
  {
   "cell_type": "markdown",
   "metadata": {},
   "source": [
    "### Rewrite full_paper_reference_links.txt as f_paper_reference_links.txt using :"
   ]
  },
  {
   "cell_type": "code",
   "execution_count": 267,
   "metadata": {
    "collapsed": true
   },
   "outputs": [],
   "source": [
    "f = open('f_paper_reference_links.txt', 'w')\n",
    "wr = csv.writer(f, delimiter=':', quoting=csv.QUOTE_NONE)\n",
    "f_read = open('full_paper_reference_links.txt')\n",
    "lines = f_read.readlines()\n",
    "f_read.close()\n",
    "for s in lines:\n",
    "    s_array = s.strip().split('\\t')\n",
    "    if paper_mapper.get(s_array[0],-1) != -1 and paper_mapper.get(s_array[1],-1) != -1:\n",
    "        wr.writerow( (paper_mapper.get(s_array[0],-1),paper_mapper.get(s_array[1],-1)) )\n",
    "f.close()"
   ]
  },
  {
   "cell_type": "markdown",
   "metadata": {},
   "source": [
    "### Rewrite the graph edges to numbers and reconstruct mappers"
   ]
  },
  {
   "cell_type": "code",
   "execution_count": 286,
   "metadata": {
    "collapsed": true
   },
   "outputs": [],
   "source": [
    "f = open('f_coauthor_links.txt', 'w')\n",
    "wr = csv.writer(f, delimiter=':', quoting=csv.QUOTE_NONE)\n",
    "f_read = open('coauthor_graph.txt')\n",
    "lines = f_read.readlines()\n",
    "f_read.close()\n",
    "for s in lines:\n",
    "    s_array = s.strip().split(':')\n",
    "    if len(s_array) == 2 and (author_mapper.get(s_array[0],-1) != -1 and author_mapper.get(s_array[1],-1) != -1):\n",
    "        wr.writerow( (author_mapper.get(s_array[0],-1),author_mapper.get(s_array[1],-1)) )\n",
    "f.close()"
   ]
  },
  {
   "cell_type": "code",
   "execution_count": 275,
   "metadata": {
    "collapsed": true
   },
   "outputs": [],
   "source": [
    "def transform_mapper(m):\n",
    "    mm={}\n",
    "    for key in m.keys():\n",
    "        mm.setdefault(m.get(key, -1), key)\n",
    "    return mm"
   ]
  },
  {
   "cell_type": "code",
   "execution_count": 276,
   "metadata": {
    "collapsed": true
   },
   "outputs": [],
   "source": [
    "author_mapper2 = transform_mapper(author_mapper)"
   ]
  },
  {
   "cell_type": "code",
   "execution_count": 278,
   "metadata": {
    "collapsed": true
   },
   "outputs": [],
   "source": [
    "paper_mapper2 = transform_mapper(paper_mapper)"
   ]
  },
  {
   "cell_type": "code",
   "execution_count": 281,
   "metadata": {
    "collapsed": true
   },
   "outputs": [],
   "source": [
    "map_writer(paper_mapper2, 'paper_mapper2.txt')\n",
    "map_writer(author_mapper2, 'author_mapper2.txt')"
   ]
  },
  {
   "cell_type": "markdown",
   "metadata": {},
   "source": [
    "## Construct the graphs\n",
    "- Now we only need to use author_mapper2.txt, paper_mapper2.txt as mappers. \n",
    "- f_coauthor_links.txt and f_paper_reference_links.txt as edges. "
   ]
  },
  {
   "cell_type": "code",
   "execution_count": 301,
   "metadata": {
    "collapsed": true
   },
   "outputs": [],
   "source": [
    "G_paper = nx.DiGraph()\n",
    "G_author = nx.Graph()"
   ]
  },
  {
   "cell_type": "code",
   "execution_count": 307,
   "metadata": {
    "collapsed": true
   },
   "outputs": [],
   "source": [
    "G_paper.add_nodes_from(paper_mapper2.keys())\n",
    "G_author.add_nodes_from(author_mapper2.keys())"
   ]
  },
  {
   "cell_type": "markdown",
   "metadata": {},
   "source": [
    "Delete last line of f_co*.txt by hand"
   ]
  },
  {
   "cell_type": "code",
   "execution_count": 309,
   "metadata": {
    "collapsed": true
   },
   "outputs": [],
   "source": [
    "E_paper = np.loadtxt('f_paper_reference_links.txt', delimiter=':')\n",
    "E_author = np.loadtxt('f_coauthor_links.txt', delimiter=':')"
   ]
  },
  {
   "cell_type": "code",
   "execution_count": 310,
   "metadata": {
    "collapsed": true
   },
   "outputs": [],
   "source": [
    "G_paper.add_edges_from(E_paper)\n",
    "G_author.add_edges_from(E_author)"
   ]
  },
  {
   "cell_type": "code",
   "execution_count": 315,
   "metadata": {
    "collapsed": true
   },
   "outputs": [],
   "source": [
    "def save_graph(G,sv,se):\n",
    "    nodes = list(G.nodes())\n",
    "    np.savetxt(sv, nodes, fmt='%d')\n",
    "    edges = list(G.edges())\n",
    "    np.savetxt(se, edges, fmt='%d\\t%d')"
   ]
  },
  {
   "cell_type": "code",
   "execution_count": 468,
   "metadata": {
    "collapsed": true
   },
   "outputs": [],
   "source": [
    "def save_graph2(G,sv,se,mapper):# unsuccessful\n",
    "    nodes = list(G.nodes())\n",
    "    nodes_words=[]\n",
    "    for node in nodes:\n",
    "        nodes_words.append(mapper.get(node))\n",
    "    np.savetxt(sv, nodes_words, fmt='%s')\n",
    "    edges = list(G.edges())\n",
    "    edges_words=[]\n",
    "    for edge in edges:\n",
    "        edges_words.append(mapper.get(edge.astype(np.int64)))\n",
    "    np.savetxt(se, edges_words, fmt=['%s','%s'])"
   ]
  },
  {
   "cell_type": "code",
   "execution_count": 483,
   "metadata": {
    "collapsed": true
   },
   "outputs": [],
   "source": [
    "def save_graph3(G,sv,se):\n",
    "    nodes = list(G.nodes())\n",
    "    np.savetxt(sv, nodes, fmt='%s')\n",
    "    edges = list(G.edges())\n",
    "    np.savetxt(se, edges, fmt='%s:%s')"
   ]
  },
  {
   "cell_type": "code",
   "execution_count": 316,
   "metadata": {
    "collapsed": true
   },
   "outputs": [],
   "source": [
    "save_graph(G_paper,'p_nodes','p_edges')\n",
    "save_graph(G_author,'a_nodes','a_edges')"
   ]
  },
  {
   "cell_type": "code",
   "execution_count": 484,
   "metadata": {
    "collapsed": true
   },
   "outputs": [],
   "source": [
    "G_author_words=nx.Graph()\n",
    "G_author_words.add_nodes_from(author_mapper2.values())\n",
    "E_author_words = np.loadtxt('coauthor_graph2.txt',delimiter=':',dtype='str')\n",
    "G_author_words.add_edges_from(E_author_words)\n",
    "save_graph3(G_author_words,'a_nodes_w','a_edges_w')"
   ]
  },
  {
   "cell_type": "markdown",
   "metadata": {},
   "source": [
    "### Result interpreting functions"
   ]
  },
  {
   "cell_type": "code",
   "execution_count": 360,
   "metadata": {
    "collapsed": true
   },
   "outputs": [],
   "source": [
    "def paper_name_interpretation(id):\n",
    "    return d_index.loc[d_index['paper_id'] == id,'title'].to_string()"
   ]
  },
  {
   "cell_type": "code",
   "execution_count": 380,
   "metadata": {
    "collapsed": true
   },
   "outputs": [],
   "source": [
    "IDs = np.array(d_index['paper_id'])\n",
    "Titles = np.array(d_index['title'])"
   ]
  },
  {
   "cell_type": "markdown",
   "metadata": {},
   "source": [
    "## Algos\n",
    "### PageRank"
   ]
  },
  {
   "cell_type": "code",
   "execution_count": 321,
   "metadata": {
    "collapsed": true
   },
   "outputs": [],
   "source": [
    "def page_rank(G,s,mapper):\n",
    "    pr = nx.pagerank(G, max_iter = 300)\n",
    "    sorted_pr = sorted(pr.items(), key=operator.itemgetter(1), reverse=True)\n",
    "    sorted_pr_byname = [(mapper[index], rank) for (index, rank) in sorted_pr]\n",
    "    f_pr = open(s,'w')\n",
    "    wr = csv.writer(f_pr, quoting=csv.QUOTE_NONE)\n",
    "    for line in sorted_pr_byname:\n",
    "        wr.writerow(line)\n",
    "    f_pr.close()"
   ]
  },
  {
   "cell_type": "code",
   "execution_count": 322,
   "metadata": {
    "collapsed": true
   },
   "outputs": [],
   "source": [
    "page_rank(G_author, 'pagerank_a', author_mapper2)# jiawei han toka appeared"
   ]
  },
  {
   "cell_type": "code",
   "execution_count": 323,
   "metadata": {
    "collapsed": true
   },
   "outputs": [],
   "source": [
    "page_rank(G_paper, 'pagerank_p', paper_mapper2)"
   ]
  },
  {
   "cell_type": "code",
   "execution_count": 43,
   "metadata": {},
   "outputs": [
    {
     "ename": "NameError",
     "evalue": "name 'Titles' is not defined",
     "output_type": "error",
     "traceback": [
      "\u001b[0;31m---------------------------------------------------------------------------\u001b[0m",
      "\u001b[0;31mNameError\u001b[0m                                 Traceback (most recent call last)",
      "\u001b[0;32m<ipython-input-43-7d57af22ed96>\u001b[0m in \u001b[0;36m<module>\u001b[0;34m()\u001b[0m\n\u001b[1;32m      5\u001b[0m \u001b[0;32mfor\u001b[0m \u001b[0ms\u001b[0m \u001b[0;32min\u001b[0m \u001b[0mlines\u001b[0m\u001b[0;34m:\u001b[0m\u001b[0;34m\u001b[0m\u001b[0m\n\u001b[1;32m      6\u001b[0m     \u001b[0ms_array\u001b[0m \u001b[0;34m=\u001b[0m \u001b[0ms\u001b[0m\u001b[0;34m.\u001b[0m\u001b[0mstrip\u001b[0m\u001b[0;34m(\u001b[0m\u001b[0;34m)\u001b[0m\u001b[0;34m.\u001b[0m\u001b[0msplit\u001b[0m\u001b[0;34m(\u001b[0m\u001b[0;34m','\u001b[0m\u001b[0;34m)\u001b[0m\u001b[0;34m\u001b[0m\u001b[0m\n\u001b[0;32m----> 7\u001b[0;31m     \u001b[0mranked_paper_titles\u001b[0m\u001b[0;34m.\u001b[0m\u001b[0mappend\u001b[0m\u001b[0;34m(\u001b[0m\u001b[0mTitles\u001b[0m\u001b[0;34m[\u001b[0m\u001b[0mnp\u001b[0m\u001b[0;34m.\u001b[0m\u001b[0mwhere\u001b[0m\u001b[0;34m(\u001b[0m\u001b[0mIDs\u001b[0m\u001b[0;34m==\u001b[0m\u001b[0ms_array\u001b[0m\u001b[0;34m[\u001b[0m\u001b[0;36m0\u001b[0m\u001b[0;34m]\u001b[0m\u001b[0;34m)\u001b[0m\u001b[0;34m]\u001b[0m\u001b[0;34m[\u001b[0m\u001b[0;36m0\u001b[0m\u001b[0;34m]\u001b[0m\u001b[0;34m)\u001b[0m\u001b[0;34m\u001b[0m\u001b[0m\n\u001b[0m",
      "\u001b[0;31mNameError\u001b[0m: name 'Titles' is not defined"
     ]
    }
   ],
   "source": [
    "f_read = open('pagerank_a')\n",
    "lines = f_read.readlines()\n",
    "f_read.close()\n",
    "ranked_paper_titles=[]\n",
    "for s in lines:\n",
    "    s_array = s.strip().split(',')\n",
    "    ranked_paper_titles.append(Titles[np.where(IDs==s_array[0])][0])"
   ]
  },
  {
   "cell_type": "code",
   "execution_count": 44,
   "metadata": {},
   "outputs": [
    {
     "data": {
      "text/plain": [
       "[]"
      ]
     },
     "execution_count": 44,
     "metadata": {},
     "output_type": "execute_result"
    }
   ],
   "source": [
    "ranked_paper_titles"
   ]
  },
  {
   "cell_type": "markdown",
   "metadata": {},
   "source": [
    "### Community detection"
   ]
  },
  {
   "cell_type": "code",
   "execution_count": 420,
   "metadata": {
    "collapsed": true
   },
   "outputs": [],
   "source": [
    "from sklearn import cross_validation\n",
    "from networkx.algorithms import community\n",
    "import cPickle as cpk"
   ]
  },
  {
   "cell_type": "code",
   "execution_count": 418,
   "metadata": {
    "collapsed": true
   },
   "outputs": [],
   "source": [
    "component_list_author = sorted(nx.connected_component_subgraphs(G_author), key=len, reverse = True)\n",
    "component_size_author = [subG.number_of_nodes() for subG in component_list_author]\n",
    "np.savetxt('component_size_author.txt',component_size_author, fmt='%d')\n",
    "Gmax_author = component_list_author[0] #7268 components"
   ]
  },
  {
   "cell_type": "code",
   "execution_count": 419,
   "metadata": {
    "collapsed": true
   },
   "outputs": [],
   "source": [
    "G_paper_undirected = G_paper.to_undirected()\n",
    "component_list_paper = sorted(nx.connected_component_subgraphs(G_paper_undirected), key=len, reverse = True)\n",
    "component_size_paper = [subG.number_of_nodes() for subG in component_list_paper]\n",
    "np.savetxt('component_size_paper.txt',component_size_paper, fmt='%d')\n",
    "Gmax_paper = component_list_paper[0] #397 components"
   ]
  },
  {
   "cell_type": "code",
   "execution_count": 485,
   "metadata": {
    "collapsed": true
   },
   "outputs": [],
   "source": [
    "component_list_author_words = sorted(nx.connected_component_subgraphs(G_author_words), key=len, reverse = True)\n",
    "component_size_author_words = [subG.number_of_nodes() for subG in component_list_author_words]\n",
    "np.savetxt('component_size_author_words.txt',component_size_author_words, fmt='%d')\n",
    "Gmax_author_words = component_list_author_words[0] "
   ]
  },
  {
   "cell_type": "code",
   "execution_count": 425,
   "metadata": {
    "collapsed": true
   },
   "outputs": [],
   "source": [
    "save_graph(Gmax_author,'Gmax_author_nodes','Gmax_author_edges')"
   ]
  },
  {
   "cell_type": "markdown",
   "metadata": {},
   "source": [
    "### Sample Gmax_author and save it"
   ]
  },
  {
   "cell_type": "code",
   "execution_count": 486,
   "metadata": {
    "collapsed": true
   },
   "outputs": [],
   "source": [
    "from random import choice\n",
    "random_nodes=[]\n",
    "for i in range(6000):\n",
    "    random_node = choice(Gmax_author_words.nodes())\n",
    "    random_nodes.append(random_node)\n",
    "subGmax_author_words = Gmax_author_words.subgraph(random_nodes)"
   ]
  },
  {
   "cell_type": "code",
   "execution_count": 487,
   "metadata": {
    "collapsed": true
   },
   "outputs": [],
   "source": [
    "save_graph3(subGmax_author_words,'subGmax_author_nodes_words.csv','subGmax_author_edges_words.csv')"
   ]
  },
  {
   "cell_type": "markdown",
   "metadata": {},
   "source": [
    "### From now on we will use Gmax's to replace G's, and use only authors\n",
    "### k-clique"
   ]
  },
  {
   "cell_type": "code",
   "execution_count": 421,
   "metadata": {
    "collapsed": true
   },
   "outputs": [],
   "source": [
    "def kclique(G,mapper):\n",
    "    k_clique_comm = sorted(list(nx.k_clique_communities(G,15)), key=len, reverse = True)\n",
    "    num_cliques = len(k_clique_comm)\n",
    "    max_k_clique_comm = [[mapper[index] for index in list(k_clique_comm[i])] for i in range(num_cliques)]\n",
    "    for i in range(num_cliques):\n",
    "        f = open('kcliques/clique'+str(i)+'.txt','w')\n",
    "        cpk.dump(max_k_clique_comm[i],f)\n",
    "        f.close()"
   ]
  },
  {
   "cell_type": "code",
   "execution_count": 492,
   "metadata": {
    "collapsed": true
   },
   "outputs": [],
   "source": [
    "def kclique2(G):\n",
    "    k_clique_comm = sorted(list(nx.k_clique_communities(G,20)), key=len, reverse = True)\n",
    "    num_cliques = len(k_clique_comm)\n",
    "    max_k_clique_comm = [[index for index in list(k_clique_comm[i])] for i in range(num_cliques)]\n",
    "    for i in range(num_cliques):\n",
    "        f = open('subkcliques/clique'+str(i)+'.txt','w')\n",
    "        cpk.dump(max_k_clique_comm[i],f)\n",
    "        f.close()"
   ]
  },
  {
   "cell_type": "code",
   "execution_count": 423,
   "metadata": {
    "collapsed": true
   },
   "outputs": [],
   "source": [
    "kclique(Gmax_author,author_mapper2)"
   ]
  },
  {
   "cell_type": "code",
   "execution_count": 493,
   "metadata": {
    "collapsed": true
   },
   "outputs": [],
   "source": [
    "kclique2(subGmax_author_words)"
   ]
  },
  {
   "cell_type": "markdown",
   "metadata": {},
   "source": [
    "### link prediction\n",
    "use jaccard"
   ]
  },
  {
   "cell_type": "code",
   "execution_count": 28,
   "metadata": {},
   "outputs": [],
   "source": [
    "from random import choice\n",
    "random_nodes2=[]\n",
    "for i in range(3000):#50000/63364\n",
    "    random_node = choice(Gmax_author_words.nodes())\n",
    "    random_nodes2.append(random_node)\n",
    "\n",
    "random_nodes3=[]\n",
    "for i in range(2000):#50000/63364\n",
    "    random_node = choice(random_nodes2)\n",
    "    random_nodes3.append(random_node)    \n",
    "    \n",
    "all_nodes_set = set(random_nodes2)\n",
    "train_nodes_set = set(random_nodes3)\n",
    "test_nodes_set = all_nodes_set - train_nodes_set\n",
    "\n",
    "train_Gmax_author_words = Gmax_author_words.subgraph(random_nodes2)\n",
    "test_Gmax_author_words = Gmax_author_words.subgraph(test_nodes_set)"
   ]
  },
  {
   "cell_type": "code",
   "execution_count": 36,
   "metadata": {
    "collapsed": true
   },
   "outputs": [],
   "source": [
    "all_edges_set = set(Gmax_author_words.edges())\n",
    "test_edges_set = set(test_Gmax_author_words.edges())\n",
    "train_edges_set = all_edges_set - test_edges_set\n",
    "\n",
    "train_Gmax_author_words2=nx.Graph()\n",
    "train_Gmax_author_words2.add_nodes_from(Gmax_author_words.nodes())\n",
    "train_Gmax_author_words2.add_edges_from(train_edges_set)"
   ]
  },
  {
   "cell_type": "code",
   "execution_count": 37,
   "metadata": {
    "collapsed": true
   },
   "outputs": [],
   "source": [
    "preds = nx.jaccard_coefficient(train_Gmax_author_words2)"
   ]
  },
  {
   "cell_type": "code",
   "execution_count": 40,
   "metadata": {},
   "outputs": [],
   "source": [
    "f = open('link_preds.csv', 'w')\n",
    "wr=csv.writer(f, quoting=csv.QUOTE_NONE,delimiter=':')\n",
    "i=0\n",
    "for u,v,p in preds:\n",
    "    if Gmax_author_words.has_edge(u,v):\n",
    "        i=i+p\n",
    "    else:\n",
    "        i=i-p\n",
    "        #'(%s, %s) -> %.8f' % (u, v, p)  \n",
    "f.close()"
   ]
  },
  {
   "cell_type": "markdown",
   "metadata": {},
   "source": [
    "### Use smaller subgraph"
   ]
  },
  {
   "cell_type": "code",
   "execution_count": 10,
   "metadata": {},
   "outputs": [
    {
     "name": "stdout",
     "output_type": "stream",
     "text": [
      "4068\n"
     ]
    }
   ],
   "source": [
    "Gmax_author_words = nx.Graph()\n",
    "V=np.loadtxt('subGmax_author_nodes_words.csv',delimiter=':',dtype='str')\n",
    "Gmax_author_words.add_nodes_from(V)\n",
    "E = np.loadtxt('subGmax_author_edges_words.csv',delimiter=':',dtype='str')\n",
    "Gmax_author_words.add_edges_from(E)\n",
    "print Gmax_author_words.number_of_edges()"
   ]
  },
  {
   "cell_type": "markdown",
   "metadata": {},
   "source": [
    "Compute a percentage score"
   ]
  },
  {
   "cell_type": "code",
   "execution_count": 42,
   "metadata": {},
   "outputs": [
    {
     "data": {
      "text/plain": [
       "5716"
      ]
     },
     "execution_count": 42,
     "metadata": {},
     "output_type": "execute_result"
    }
   ],
   "source": [
    "Gmax_author_words.number_of_nodes()"
   ]
  },
  {
   "cell_type": "code",
   "execution_count": 41,
   "metadata": {},
   "outputs": [
    {
     "data": {
      "text/plain": [
       "-957.6274413832608"
      ]
     },
     "execution_count": 41,
     "metadata": {},
     "output_type": "execute_result"
    }
   ],
   "source": [
    "i"
   ]
  }
 ],
 "metadata": {
  "kernelspec": {
   "display_name": "Python 2",
   "language": "python",
   "name": "python2"
  },
  "language_info": {
   "codemirror_mode": {
    "name": "ipython",
    "version": 2
   },
   "file_extension": ".py",
   "mimetype": "text/x-python",
   "name": "python",
   "nbconvert_exporter": "python",
   "pygments_lexer": "ipython2",
   "version": "2.7.13"
  }
 },
 "nbformat": 4,
 "nbformat_minor": 2
}
